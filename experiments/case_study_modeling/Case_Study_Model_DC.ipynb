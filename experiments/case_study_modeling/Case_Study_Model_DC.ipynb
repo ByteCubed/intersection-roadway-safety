{
 "cells": [
  {
   "cell_type": "markdown",
   "id": "9bacae7c",
   "metadata": {},
   "source": [
    "# Model to predict crash propensity from intersection features in DC\n",
    "This notebook will train a deep machine learning model and apply its predictions onto the DC case study dataset."
   ]
  },
  {
   "cell_type": "markdown",
   "id": "a266290c",
   "metadata": {},
   "source": [
    "# Imports"
   ]
  },
  {
   "cell_type": "code",
   "execution_count": 216,
   "id": "6c66f2f4",
   "metadata": {},
   "outputs": [],
   "source": [
    "import pandas as pd\n",
    "import numpy as np\n",
    "import matplotlib.pyplot as plt\n",
    "import os\n",
    "import psycopg2\n",
    "from geopy.distance import distance as geo_distance\n",
    "import geopandas as gpd\n",
    "import pdb\n",
    "import matplotlib as mpl\n",
    "import seaborn as sns\n",
    "\n",
    "mpl.rcParams['axes.linewidth'] = 3\n",
    "pd.set_option('display.max_columns', 500)\n",
    "pd.set_option('display.max_rows', 500)"
   ]
  },
  {
   "cell_type": "markdown",
   "id": "04bef13a",
   "metadata": {},
   "source": [
    "# Analysis idea:\n",
    "\n",
    "Loop over each intersection. Extract the num crashes within a certain radius. Calculate the number of crashes per yea for each unique intersection. Use gathered intersection features as input variables. Estimate the confidence interval of each prediction using either the RMSE or by fitting the residuals to a laplace distribution."
   ]
  },
  {
   "cell_type": "code",
   "execution_count": 217,
   "id": "68bdaa1c",
   "metadata": {},
   "outputs": [],
   "source": [
    "POSTGRES_DB= 'rws'\n",
    "POSTGRES_PASSWORD= 'ug_password'\n",
    "POSTGRES_USER= 'ug_username'\n",
    "CURRENT_DIR= os.getcwd()\n",
    "    \n",
    "conn = psycopg2.connect(f\"host=localhost dbname={POSTGRES_DB} user={POSTGRES_USER} password={POSTGRES_PASSWORD} port=5433\")\n"
   ]
  },
  {
   "cell_type": "code",
   "execution_count": 218,
   "id": "fd0ea165",
   "metadata": {},
   "outputs": [
    {
     "name": "stderr",
     "output_type": "stream",
     "text": [
      "/Users/dylan.frizzell/dot/database_building/.venv/lib/python3.9/site-packages/pandas/io/sql.py:761: UserWarning: pandas only support SQLAlchemy connectable(engine/connection) ordatabase string URI or sqlite3 DBAPI2 connectionother DBAPI2 objects are not tested, please consider using SQLAlchemy\n",
      "  warnings.warn(\n"
     ]
    }
   ],
   "source": [
    "sql_full = f\"\"\"\n",
    "SELECT \n",
    "  ni.node_id,\n",
    "  ni.point3857,\n",
    "  ni.lat,\n",
    "  ni.long,\n",
    "  ni.legs,\n",
    "  int_feat.way_lines,\n",
    "  int_feat.ramp_roads,\n",
    "  int_feat.bikepaths,\n",
    "  int_feat.footways,\n",
    "  int_feat.oneways,\n",
    "  int_feat.maxspeed,\n",
    "  int_feat.minspeed,\n",
    "  int_feat.surface_types,\n",
    "  int_feat.aadt,\n",
    "  int_feat.min_angle,\n",
    "  int_feat.second_min_angle,\n",
    "  int_feat.junction_geometry_type_id,\n",
    "  int_feat.junction_type_id,\n",
    "  sum(cast(\n",
    "  case\n",
    "        when length(wfv.lanes)>2 then null\n",
    "        when wfv.lanes is null then null\n",
    "        when wfv.lanes = '' then null\n",
    "        else wfv.lanes\n",
    "    end\n",
    "    as int\n",
    "  )) as num_lanes,\n",
    " mode() WITHIN GROUP (ORDER BY wfv.highway) AS  highway_type\n",
    "from \n",
    "  rws.dc.node_intersections ni \n",
    "inner join \n",
    "  rws.dc.intersection_features int_feat  on int_feat.node_id=ni.node_id \n",
    " join \n",
    "  rws.dc.curated_way_feature_view wfv on wfv.node_id=ni.node_id  \n",
    "\n",
    "group by \n",
    "  ni.node_id,\n",
    "  ni.point3857,\n",
    "  ni.lat,\n",
    "  ni.long,\n",
    "  ni.legs,\n",
    "  int_feat.way_lines,\n",
    "  int_feat.ramp_roads,\n",
    "  int_feat.bikepaths,\n",
    "  int_feat.footways,\n",
    "  int_feat.oneways,\n",
    "  int_feat.maxspeed,\n",
    "  int_feat.minspeed,\n",
    "  int_feat.surface_types,\n",
    "  int_feat.aadt,\n",
    "  int_feat.min_angle,\n",
    "  int_feat.second_min_angle,\n",
    "  int_feat.junction_geometry_type_id,\n",
    "  int_feat.junction_type_id;\n",
    "\"\"\"\n",
    "\n",
    "df = gpd.read_postgis(sql_full, conn, geom_col=\"point3857\")"
   ]
  },
  {
   "cell_type": "code",
   "execution_count": 219,
   "id": "7ae9a0e3",
   "metadata": {},
   "outputs": [],
   "source": [
    "df.aadt = df.aadt.apply(lambda x: 5 if float(x) == 5102021.0 else x)"
   ]
  },
  {
   "cell_type": "code",
   "execution_count": 220,
   "id": "dc6c8473",
   "metadata": {},
   "outputs": [
    {
     "data": {
      "text/html": [
       "<div>\n",
       "<style scoped>\n",
       "    .dataframe tbody tr th:only-of-type {\n",
       "        vertical-align: middle;\n",
       "    }\n",
       "\n",
       "    .dataframe tbody tr th {\n",
       "        vertical-align: top;\n",
       "    }\n",
       "\n",
       "    .dataframe thead th {\n",
       "        text-align: right;\n",
       "    }\n",
       "</style>\n",
       "<table border=\"1\" class=\"dataframe\">\n",
       "  <thead>\n",
       "    <tr style=\"text-align: right;\">\n",
       "      <th></th>\n",
       "      <th>node_id</th>\n",
       "      <th>point3857</th>\n",
       "      <th>lat</th>\n",
       "      <th>long</th>\n",
       "      <th>legs</th>\n",
       "      <th>way_lines</th>\n",
       "      <th>ramp_roads</th>\n",
       "      <th>bikepaths</th>\n",
       "      <th>footways</th>\n",
       "      <th>oneways</th>\n",
       "      <th>maxspeed</th>\n",
       "      <th>minspeed</th>\n",
       "      <th>surface_types</th>\n",
       "      <th>aadt</th>\n",
       "      <th>min_angle</th>\n",
       "      <th>second_min_angle</th>\n",
       "      <th>junction_geometry_type_id</th>\n",
       "      <th>junction_type_id</th>\n",
       "      <th>num_lanes</th>\n",
       "      <th>highway_type</th>\n",
       "    </tr>\n",
       "  </thead>\n",
       "  <tbody>\n",
       "    <tr>\n",
       "      <th>26082</th>\n",
       "      <td>6003858244</td>\n",
       "      <td>POINT (-8575939.045 4704369.266)</td>\n",
       "      <td>38.879106</td>\n",
       "      <td>-77.038971</td>\n",
       "      <td>3</td>\n",
       "      <td>0105000020110F000003000000010200000002000000CF...</td>\n",
       "      <td>0</td>\n",
       "      <td>0</td>\n",
       "      <td>0</td>\n",
       "      <td>3</td>\n",
       "      <td>40 mph</td>\n",
       "      <td>35 mph</td>\n",
       "      <td>None</td>\n",
       "      <td>248561.0</td>\n",
       "      <td>4.422229</td>\n",
       "      <td>169.934703</td>\n",
       "      <td>2.0</td>\n",
       "      <td>1</td>\n",
       "      <td>8.0</td>\n",
       "      <td>motorway</td>\n",
       "    </tr>\n",
       "    <tr>\n",
       "      <th>8086</th>\n",
       "      <td>486665753</td>\n",
       "      <td>POINT (-8575993.926 4704268.639)</td>\n",
       "      <td>38.878402</td>\n",
       "      <td>-77.039464</td>\n",
       "      <td>3</td>\n",
       "      <td>0105000020110F00000300000001020000000200000071...</td>\n",
       "      <td>2</td>\n",
       "      <td>0</td>\n",
       "      <td>0</td>\n",
       "      <td>3</td>\n",
       "      <td>65 mph</td>\n",
       "      <td>65 mph</td>\n",
       "      <td>[concrete]</td>\n",
       "      <td>248561.0</td>\n",
       "      <td>10.768784</td>\n",
       "      <td>166.895809</td>\n",
       "      <td>NaN</td>\n",
       "      <td>2</td>\n",
       "      <td>4.0</td>\n",
       "      <td>motorway_link</td>\n",
       "    </tr>\n",
       "    <tr>\n",
       "      <th>7224</th>\n",
       "      <td>49859243</td>\n",
       "      <td>POINT (-8575771.198 4704220.536)</td>\n",
       "      <td>38.878066</td>\n",
       "      <td>-77.037463</td>\n",
       "      <td>3</td>\n",
       "      <td>0105000020110F00000300000001020000000200000036...</td>\n",
       "      <td>0</td>\n",
       "      <td>0</td>\n",
       "      <td>0</td>\n",
       "      <td>3</td>\n",
       "      <td>40 mph</td>\n",
       "      <td>35 mph</td>\n",
       "      <td>[asphalt]</td>\n",
       "      <td>248561.0</td>\n",
       "      <td>17.181792</td>\n",
       "      <td>168.054609</td>\n",
       "      <td>2.0</td>\n",
       "      <td>1</td>\n",
       "      <td>9.0</td>\n",
       "      <td>motorway</td>\n",
       "    </tr>\n",
       "    <tr>\n",
       "      <th>7225</th>\n",
       "      <td>49859315</td>\n",
       "      <td>POINT (-8576018.182 4704211.227)</td>\n",
       "      <td>38.878000</td>\n",
       "      <td>-77.039682</td>\n",
       "      <td>3</td>\n",
       "      <td>0105000020110F00000300000001020000000200000012...</td>\n",
       "      <td>2</td>\n",
       "      <td>0</td>\n",
       "      <td>0</td>\n",
       "      <td>3</td>\n",
       "      <td>65 mph</td>\n",
       "      <td>65 mph</td>\n",
       "      <td>[concrete]</td>\n",
       "      <td>248561.0</td>\n",
       "      <td>10.305202</td>\n",
       "      <td>172.537383</td>\n",
       "      <td>NaN</td>\n",
       "      <td>2</td>\n",
       "      <td>4.0</td>\n",
       "      <td>motorway_link</td>\n",
       "    </tr>\n",
       "    <tr>\n",
       "      <th>8613</th>\n",
       "      <td>643754239</td>\n",
       "      <td>POINT (-8576457.850 4703700.432)</td>\n",
       "      <td>38.874428</td>\n",
       "      <td>-77.043632</td>\n",
       "      <td>3</td>\n",
       "      <td>0105000020110F000003000000010200000002000000E7...</td>\n",
       "      <td>1</td>\n",
       "      <td>0</td>\n",
       "      <td>0</td>\n",
       "      <td>3</td>\n",
       "      <td>None</td>\n",
       "      <td>None</td>\n",
       "      <td>None</td>\n",
       "      <td>248561.0</td>\n",
       "      <td>16.109101</td>\n",
       "      <td>163.510839</td>\n",
       "      <td>NaN</td>\n",
       "      <td>2</td>\n",
       "      <td>9.0</td>\n",
       "      <td>motorway</td>\n",
       "    </tr>\n",
       "  </tbody>\n",
       "</table>\n",
       "</div>"
      ],
      "text/plain": [
       "          node_id                         point3857        lat       long  \\\n",
       "26082  6003858244  POINT (-8575939.045 4704369.266)  38.879106 -77.038971   \n",
       "8086    486665753  POINT (-8575993.926 4704268.639)  38.878402 -77.039464   \n",
       "7224     49859243  POINT (-8575771.198 4704220.536)  38.878066 -77.037463   \n",
       "7225     49859315  POINT (-8576018.182 4704211.227)  38.878000 -77.039682   \n",
       "8613    643754239  POINT (-8576457.850 4703700.432)  38.874428 -77.043632   \n",
       "\n",
       "       legs                                          way_lines  ramp_roads  \\\n",
       "26082     3  0105000020110F000003000000010200000002000000CF...           0   \n",
       "8086      3  0105000020110F00000300000001020000000200000071...           2   \n",
       "7224      3  0105000020110F00000300000001020000000200000036...           0   \n",
       "7225      3  0105000020110F00000300000001020000000200000012...           2   \n",
       "8613      3  0105000020110F000003000000010200000002000000E7...           1   \n",
       "\n",
       "       bikepaths  footways  oneways maxspeed minspeed surface_types      aadt  \\\n",
       "26082          0         0        3   40 mph   35 mph          None  248561.0   \n",
       "8086           0         0        3   65 mph   65 mph    [concrete]  248561.0   \n",
       "7224           0         0        3   40 mph   35 mph     [asphalt]  248561.0   \n",
       "7225           0         0        3   65 mph   65 mph    [concrete]  248561.0   \n",
       "8613           0         0        3     None     None          None  248561.0   \n",
       "\n",
       "       min_angle  second_min_angle  junction_geometry_type_id  \\\n",
       "26082   4.422229        169.934703                        2.0   \n",
       "8086   10.768784        166.895809                        NaN   \n",
       "7224   17.181792        168.054609                        2.0   \n",
       "7225   10.305202        172.537383                        NaN   \n",
       "8613   16.109101        163.510839                        NaN   \n",
       "\n",
       "       junction_type_id  num_lanes   highway_type  \n",
       "26082                 1        8.0       motorway  \n",
       "8086                  2        4.0  motorway_link  \n",
       "7224                  1        9.0       motorway  \n",
       "7225                  2        4.0  motorway_link  \n",
       "8613                  2        9.0       motorway  "
      ]
     },
     "execution_count": 220,
     "metadata": {},
     "output_type": "execute_result"
    }
   ],
   "source": [
    "df.sort_values('aadt',ascending=False).head(5)"
   ]
  },
  {
   "cell_type": "markdown",
   "id": "f06c3b94",
   "metadata": {},
   "source": [
    "# The following code build a dataset of historical crash data"
   ]
  },
  {
   "cell_type": "code",
   "execution_count": 221,
   "id": "ae860405",
   "metadata": {},
   "outputs": [
    {
     "name": "stderr",
     "output_type": "stream",
     "text": [
      "/Users/dylan.frizzell/dot/database_building/.venv/lib/python3.9/site-packages/pandas/io/sql.py:761: UserWarning: pandas only support SQLAlchemy connectable(engine/connection) ordatabase string URI or sqlite3 DBAPI2 connectionother DBAPI2 objects are not tested, please consider using SQLAlchemy\n",
      "  warnings.warn(\n"
     ]
    }
   ],
   "source": [
    "\n",
    "sql_crashes = f\"\"\"SELECT *,ST_AsText(dc.point) as t_point from rws.dc.crashes as dc \"\"\"\n",
    "\n",
    "df_crashes = gpd.read_postgis(sql_crashes, conn,geom_col=\"point\")\n"
   ]
  },
  {
   "cell_type": "code",
   "execution_count": 222,
   "id": "725decf8",
   "metadata": {},
   "outputs": [
    {
     "data": {
      "text/html": [
       "<div>\n",
       "<style scoped>\n",
       "    .dataframe tbody tr th:only-of-type {\n",
       "        vertical-align: middle;\n",
       "    }\n",
       "\n",
       "    .dataframe tbody tr th {\n",
       "        vertical-align: top;\n",
       "    }\n",
       "\n",
       "    .dataframe thead th {\n",
       "        text-align: right;\n",
       "    }\n",
       "</style>\n",
       "<table border=\"1\" class=\"dataframe\">\n",
       "  <thead>\n",
       "    <tr style=\"text-align: right;\">\n",
       "      <th></th>\n",
       "      <th>x</th>\n",
       "      <th>y</th>\n",
       "      <th>objectid</th>\n",
       "      <th>crimeid</th>\n",
       "      <th>ccn</th>\n",
       "      <th>reportdate</th>\n",
       "      <th>routeid</th>\n",
       "      <th>measure</th>\n",
       "      <th>offset</th>\n",
       "      <th>streetsegid</th>\n",
       "      <th>roadwaysegid</th>\n",
       "      <th>fromdate</th>\n",
       "      <th>todate</th>\n",
       "      <th>marid</th>\n",
       "      <th>address</th>\n",
       "      <th>latitude</th>\n",
       "      <th>longitude</th>\n",
       "      <th>xcoord</th>\n",
       "      <th>ycoord</th>\n",
       "      <th>ward</th>\n",
       "      <th>eventid</th>\n",
       "      <th>mar_address</th>\n",
       "      <th>mar_score</th>\n",
       "      <th>majorinjuries_bicyclist</th>\n",
       "      <th>minorinjuries_bicyclist</th>\n",
       "      <th>unknowninjuries_bicyclist</th>\n",
       "      <th>fatal_bicyclist</th>\n",
       "      <th>majorinjuries_driver</th>\n",
       "      <th>minorinjuries_driver</th>\n",
       "      <th>unknowninjuries_driver</th>\n",
       "      <th>fatal_driver</th>\n",
       "      <th>majorinjuries_pedestrian</th>\n",
       "      <th>minorinjuries_pedestrian</th>\n",
       "      <th>unknowninjuries_pedestrian</th>\n",
       "      <th>fatal_pedestrian</th>\n",
       "      <th>total_vehicles</th>\n",
       "      <th>total_bicycles</th>\n",
       "      <th>total_pedestrians</th>\n",
       "      <th>pedestriansimpaired</th>\n",
       "      <th>bicyclistsimpaired</th>\n",
       "      <th>driversimpaired</th>\n",
       "      <th>total_taxis</th>\n",
       "      <th>total_government</th>\n",
       "      <th>speeding_involved</th>\n",
       "      <th>nearestintrouteid</th>\n",
       "      <th>nearestintstreetname</th>\n",
       "      <th>offintersection</th>\n",
       "      <th>intapproachdirection</th>\n",
       "      <th>locationerror</th>\n",
       "      <th>lastupdatedate</th>\n",
       "      <th>mpdlatitude</th>\n",
       "      <th>mpdlongitude</th>\n",
       "      <th>mpdgeox</th>\n",
       "      <th>mpdgeoy</th>\n",
       "      <th>blockkey</th>\n",
       "      <th>subblockkey</th>\n",
       "      <th>fatalpassenger</th>\n",
       "      <th>majorinjuriespassenger</th>\n",
       "      <th>minorinjuriespassenger</th>\n",
       "      <th>unknowninjuriespassenger</th>\n",
       "      <th>point</th>\n",
       "      <th>node_id</th>\n",
       "      <th>t_point</th>\n",
       "    </tr>\n",
       "  </thead>\n",
       "  <tbody>\n",
       "    <tr>\n",
       "      <th>0</th>\n",
       "      <td>-77.0464004444425</td>\n",
       "      <td>38.8951760840131</td>\n",
       "      <td>235078103</td>\n",
       "      <td>28104938</td>\n",
       "      <td>19124624</td>\n",
       "      <td>2019/07/16 22:51:42+00</td>\n",
       "      <td>11089892</td>\n",
       "      <td>632.8</td>\n",
       "      <td>9.51</td>\n",
       "      <td>None</td>\n",
       "      <td>None</td>\n",
       "      <td>2019/07/16 04:00:00+00</td>\n",
       "      <td>None</td>\n",
       "      <td>242542</td>\n",
       "      <td>2121 VIRGINIA AVENUE NW</td>\n",
       "      <td>38.896385</td>\n",
       "      <td>-77.047833</td>\n",
       "      <td>395850.594</td>\n",
       "      <td>136505.031</td>\n",
       "      <td>Ward 2</td>\n",
       "      <td>{FCE3B7A0-CD00-48C2-927C-49A4C25F271B}</td>\n",
       "      <td>2121 VIRGINIA AVENUE NW</td>\n",
       "      <td>200</td>\n",
       "      <td>0</td>\n",
       "      <td>0</td>\n",
       "      <td>0</td>\n",
       "      <td>0</td>\n",
       "      <td>0</td>\n",
       "      <td>0</td>\n",
       "      <td>0</td>\n",
       "      <td>0</td>\n",
       "      <td>0</td>\n",
       "      <td>0</td>\n",
       "      <td>0</td>\n",
       "      <td>0</td>\n",
       "      <td>2</td>\n",
       "      <td>0</td>\n",
       "      <td>0</td>\n",
       "      <td>0</td>\n",
       "      <td>0</td>\n",
       "      <td>0</td>\n",
       "      <td>0</td>\n",
       "      <td>0</td>\n",
       "      <td>0</td>\n",
       "      <td>11002102</td>\n",
       "      <td>21ST ST NW</td>\n",
       "      <td>29.58</td>\n",
       "      <td>Southeast</td>\n",
       "      <td>None</td>\n",
       "      <td>2021/03/02 15:34:54+00</td>\n",
       "      <td>38.895097</td>\n",
       "      <td>-77.046459</td>\n",
       "      <td>395821.03</td>\n",
       "      <td>136510.42</td>\n",
       "      <td>None</td>\n",
       "      <td>None</td>\n",
       "      <td>0</td>\n",
       "      <td>0</td>\n",
       "      <td>0</td>\n",
       "      <td>0</td>\n",
       "      <td>POINT (-8576925.536 4706840.462)</td>\n",
       "      <td>NaN</td>\n",
       "      <td>POINT(-8576925.536285179 4706840.461730277)</td>\n",
       "    </tr>\n",
       "    <tr>\n",
       "      <th>1</th>\n",
       "      <td>-76.943743497768</td>\n",
       "      <td>38.90052928229</td>\n",
       "      <td>235078106</td>\n",
       "      <td>28107848</td>\n",
       "      <td>19126333</td>\n",
       "      <td>2019/07/19 20:10:57+00</td>\n",
       "      <td>12047192</td>\n",
       "      <td>53.24</td>\n",
       "      <td>6.83</td>\n",
       "      <td>None</td>\n",
       "      <td>None</td>\n",
       "      <td>2019/07/19 04:00:00+00</td>\n",
       "      <td>None</td>\n",
       "      <td>288109</td>\n",
       "      <td>4100 HUNT PLACE NE</td>\n",
       "      <td>38.90109</td>\n",
       "      <td>-76.943657</td>\n",
       "      <td>404887.297</td>\n",
       "      <td>137027.779</td>\n",
       "      <td>Ward 7</td>\n",
       "      <td>{DC015601-01BF-4F15-B460-7077B9B4758D}</td>\n",
       "      <td>4100 HUNT PLACE NE</td>\n",
       "      <td>200</td>\n",
       "      <td>0</td>\n",
       "      <td>0</td>\n",
       "      <td>0</td>\n",
       "      <td>0</td>\n",
       "      <td>0</td>\n",
       "      <td>0</td>\n",
       "      <td>1</td>\n",
       "      <td>0</td>\n",
       "      <td>0</td>\n",
       "      <td>0</td>\n",
       "      <td>0</td>\n",
       "      <td>0</td>\n",
       "      <td>2</td>\n",
       "      <td>0</td>\n",
       "      <td>0</td>\n",
       "      <td>0</td>\n",
       "      <td>0</td>\n",
       "      <td>0</td>\n",
       "      <td>0</td>\n",
       "      <td>0</td>\n",
       "      <td>0</td>\n",
       "      <td>47078992</td>\n",
       "      <td>Alley-47078992</td>\n",
       "      <td>3.9</td>\n",
       "      <td>West</td>\n",
       "      <td>None</td>\n",
       "      <td>None</td>\n",
       "      <td>38.90046</td>\n",
       "      <td>-76.943741</td>\n",
       "      <td>404910.56</td>\n",
       "      <td>137005.15</td>\n",
       "      <td>None</td>\n",
       "      <td>None</td>\n",
       "      <td>0</td>\n",
       "      <td>0</td>\n",
       "      <td>0</td>\n",
       "      <td>0</td>\n",
       "      <td>POINT (-8565328.717 4707513.450)</td>\n",
       "      <td>NaN</td>\n",
       "      <td>POINT(-8565328.7170123 4707513.4504915355)</td>\n",
       "    </tr>\n",
       "    <tr>\n",
       "      <th>2</th>\n",
       "      <td>-77.0040534623968</td>\n",
       "      <td>38.9090923670921</td>\n",
       "      <td>235078111</td>\n",
       "      <td>28107881</td>\n",
       "      <td>19126542</td>\n",
       "      <td>2019/07/19 21:30:36+00</td>\n",
       "      <td>0</td>\n",
       "      <td>0</td>\n",
       "      <td>4.32</td>\n",
       "      <td>None</td>\n",
       "      <td>None</td>\n",
       "      <td>2019/07/19 04:00:00+00</td>\n",
       "      <td>None</td>\n",
       "      <td>313071</td>\n",
       "      <td>244 NEW YORK AVE NE</td>\n",
       "      <td>38.909982</td>\n",
       "      <td>-77.001459</td>\n",
       "      <td>399873.439</td>\n",
       "      <td>138013.362</td>\n",
       "      <td>Ward 5</td>\n",
       "      <td>{82441428-2E7D-4EDB-B7F6-CAB89176209D}</td>\n",
       "      <td>None</td>\n",
       "      <td>200</td>\n",
       "      <td>0</td>\n",
       "      <td>0</td>\n",
       "      <td>0</td>\n",
       "      <td>0</td>\n",
       "      <td>0</td>\n",
       "      <td>0</td>\n",
       "      <td>0</td>\n",
       "      <td>0</td>\n",
       "      <td>0</td>\n",
       "      <td>0</td>\n",
       "      <td>0</td>\n",
       "      <td>0</td>\n",
       "      <td>2</td>\n",
       "      <td>0</td>\n",
       "      <td>0</td>\n",
       "      <td>0</td>\n",
       "      <td>0</td>\n",
       "      <td>0</td>\n",
       "      <td>0</td>\n",
       "      <td>0</td>\n",
       "      <td>0</td>\n",
       "      <td>0</td>\n",
       "      <td>Not Available</td>\n",
       "      <td>0</td>\n",
       "      <td>East</td>\n",
       "      <td>None</td>\n",
       "      <td>None</td>\n",
       "      <td>38.909049</td>\n",
       "      <td>-77.004031</td>\n",
       "      <td>399873.44</td>\n",
       "      <td>138013.36</td>\n",
       "      <td>None</td>\n",
       "      <td>None</td>\n",
       "      <td>0</td>\n",
       "      <td>0</td>\n",
       "      <td>0</td>\n",
       "      <td>0</td>\n",
       "      <td>POINT (-8571763.206 4708785.457)</td>\n",
       "      <td>NaN</td>\n",
       "      <td>POINT(-8571763.206219133 4708785.4566755835)</td>\n",
       "    </tr>\n",
       "    <tr>\n",
       "      <th>3</th>\n",
       "      <td>-76.997842261169</td>\n",
       "      <td>38.863243725352</td>\n",
       "      <td>235078108</td>\n",
       "      <td>28107858</td>\n",
       "      <td>19126463</td>\n",
       "      <td>2019/07/19 20:35:59+00</td>\n",
       "      <td>0</td>\n",
       "      <td>0</td>\n",
       "      <td>0.01</td>\n",
       "      <td>None</td>\n",
       "      <td>None</td>\n",
       "      <td>2019/07/19 04:00:00+00</td>\n",
       "      <td>None</td>\n",
       "      <td>309448</td>\n",
       "      <td>INTERSTATE 295 INTERSTATE BN</td>\n",
       "      <td>38.863236</td>\n",
       "      <td>-76.99784</td>\n",
       "      <td>399975.57</td>\n",
       "      <td>132781.53</td>\n",
       "      <td>Ward 8</td>\n",
       "      <td>{18BB8C27-462B-4C96-A2D7-68183115B92A}</td>\n",
       "      <td>None</td>\n",
       "      <td>200</td>\n",
       "      <td>0</td>\n",
       "      <td>0</td>\n",
       "      <td>0</td>\n",
       "      <td>0</td>\n",
       "      <td>0</td>\n",
       "      <td>0</td>\n",
       "      <td>0</td>\n",
       "      <td>0</td>\n",
       "      <td>0</td>\n",
       "      <td>0</td>\n",
       "      <td>0</td>\n",
       "      <td>0</td>\n",
       "      <td>2</td>\n",
       "      <td>0</td>\n",
       "      <td>0</td>\n",
       "      <td>0</td>\n",
       "      <td>0</td>\n",
       "      <td>0</td>\n",
       "      <td>0</td>\n",
       "      <td>0</td>\n",
       "      <td>0</td>\n",
       "      <td>0</td>\n",
       "      <td>Not Available</td>\n",
       "      <td>0</td>\n",
       "      <td>East</td>\n",
       "      <td>None</td>\n",
       "      <td>None</td>\n",
       "      <td>38.863236</td>\n",
       "      <td>-76.99784</td>\n",
       "      <td>399975.57</td>\n",
       "      <td>132781.53</td>\n",
       "      <td>None</td>\n",
       "      <td>None</td>\n",
       "      <td>0</td>\n",
       "      <td>0</td>\n",
       "      <td>0</td>\n",
       "      <td>0</td>\n",
       "      <td>POINT (-8571360.341 4702100.194)</td>\n",
       "      <td>9.315321e+09</td>\n",
       "      <td>POINT(-8571360.340981951 4702100.1935498305)</td>\n",
       "    </tr>\n",
       "    <tr>\n",
       "      <th>4</th>\n",
       "      <td>-77.0416708676798</td>\n",
       "      <td>38.9104819118283</td>\n",
       "      <td>235078130</td>\n",
       "      <td>28073589</td>\n",
       "      <td>19104073</td>\n",
       "      <td>2019/06/15 07:35:54+00</td>\n",
       "      <td>11001802</td>\n",
       "      <td>2032.52</td>\n",
       "      <td>7.51</td>\n",
       "      <td>0</td>\n",
       "      <td>0</td>\n",
       "      <td>2019/06/14 04:00:00+00</td>\n",
       "      <td>None</td>\n",
       "      <td>226107</td>\n",
       "      <td>1545 18TH STREET NW</td>\n",
       "      <td>38.910725</td>\n",
       "      <td>-77.041093</td>\n",
       "      <td>396435.991</td>\n",
       "      <td>138096.65</td>\n",
       "      <td>Ward 2</td>\n",
       "      <td>{EBDFE007-7676-4781-8C67-923756D12031}</td>\n",
       "      <td>1545 18TH STREET NW</td>\n",
       "      <td>200</td>\n",
       "      <td>0</td>\n",
       "      <td>0</td>\n",
       "      <td>0</td>\n",
       "      <td>0</td>\n",
       "      <td>0</td>\n",
       "      <td>0</td>\n",
       "      <td>0</td>\n",
       "      <td>0</td>\n",
       "      <td>0</td>\n",
       "      <td>0</td>\n",
       "      <td>0</td>\n",
       "      <td>0</td>\n",
       "      <td>1</td>\n",
       "      <td>0</td>\n",
       "      <td>0</td>\n",
       "      <td>0</td>\n",
       "      <td>0</td>\n",
       "      <td>0</td>\n",
       "      <td>0</td>\n",
       "      <td>0</td>\n",
       "      <td>0</td>\n",
       "      <td>11023402</td>\n",
       "      <td>CHURCH ST NW</td>\n",
       "      <td>9.7</td>\n",
       "      <td>North</td>\n",
       "      <td>None</td>\n",
       "      <td>None</td>\n",
       "      <td>38.910474</td>\n",
       "      <td>-77.041582</td>\n",
       "      <td>396436</td>\n",
       "      <td>138113.79</td>\n",
       "      <td>None</td>\n",
       "      <td>None</td>\n",
       "      <td>0</td>\n",
       "      <td>0</td>\n",
       "      <td>0</td>\n",
       "      <td>0</td>\n",
       "      <td>POINT (-8576175.243 4708891.751)</td>\n",
       "      <td>NaN</td>\n",
       "      <td>POINT(-8576175.242917232 4708891.75050524)</td>\n",
       "    </tr>\n",
       "  </tbody>\n",
       "</table>\n",
       "</div>"
      ],
      "text/plain": [
       "                   x                 y   objectid   crimeid       ccn  \\\n",
       "0  -77.0464004444425  38.8951760840131  235078103  28104938  19124624   \n",
       "1   -76.943743497768    38.90052928229  235078106  28107848  19126333   \n",
       "2  -77.0040534623968  38.9090923670921  235078111  28107881  19126542   \n",
       "3   -76.997842261169   38.863243725352  235078108  28107858  19126463   \n",
       "4  -77.0416708676798  38.9104819118283  235078130  28073589  19104073   \n",
       "\n",
       "               reportdate   routeid  measure offset streetsegid roadwaysegid  \\\n",
       "0  2019/07/16 22:51:42+00  11089892    632.8   9.51        None         None   \n",
       "1  2019/07/19 20:10:57+00  12047192    53.24   6.83        None         None   \n",
       "2  2019/07/19 21:30:36+00         0        0   4.32        None         None   \n",
       "3  2019/07/19 20:35:59+00         0        0   0.01        None         None   \n",
       "4  2019/06/15 07:35:54+00  11001802  2032.52   7.51           0            0   \n",
       "\n",
       "                 fromdate todate   marid                       address  \\\n",
       "0  2019/07/16 04:00:00+00   None  242542       2121 VIRGINIA AVENUE NW   \n",
       "1  2019/07/19 04:00:00+00   None  288109            4100 HUNT PLACE NE   \n",
       "2  2019/07/19 04:00:00+00   None  313071           244 NEW YORK AVE NE   \n",
       "3  2019/07/19 04:00:00+00   None  309448  INTERSTATE 295 INTERSTATE BN   \n",
       "4  2019/06/14 04:00:00+00   None  226107           1545 18TH STREET NW   \n",
       "\n",
       "    latitude   longitude      xcoord      ycoord    ward  \\\n",
       "0  38.896385  -77.047833  395850.594  136505.031  Ward 2   \n",
       "1   38.90109  -76.943657  404887.297  137027.779  Ward 7   \n",
       "2  38.909982  -77.001459  399873.439  138013.362  Ward 5   \n",
       "3  38.863236   -76.99784   399975.57   132781.53  Ward 8   \n",
       "4  38.910725  -77.041093  396435.991   138096.65  Ward 2   \n",
       "\n",
       "                                  eventid              mar_address mar_score  \\\n",
       "0  {FCE3B7A0-CD00-48C2-927C-49A4C25F271B}  2121 VIRGINIA AVENUE NW       200   \n",
       "1  {DC015601-01BF-4F15-B460-7077B9B4758D}       4100 HUNT PLACE NE       200   \n",
       "2  {82441428-2E7D-4EDB-B7F6-CAB89176209D}                     None       200   \n",
       "3  {18BB8C27-462B-4C96-A2D7-68183115B92A}                     None       200   \n",
       "4  {EBDFE007-7676-4781-8C67-923756D12031}      1545 18TH STREET NW       200   \n",
       "\n",
       "  majorinjuries_bicyclist minorinjuries_bicyclist unknowninjuries_bicyclist  \\\n",
       "0                       0                       0                         0   \n",
       "1                       0                       0                         0   \n",
       "2                       0                       0                         0   \n",
       "3                       0                       0                         0   \n",
       "4                       0                       0                         0   \n",
       "\n",
       "  fatal_bicyclist majorinjuries_driver minorinjuries_driver  \\\n",
       "0               0                    0                    0   \n",
       "1               0                    0                    0   \n",
       "2               0                    0                    0   \n",
       "3               0                    0                    0   \n",
       "4               0                    0                    0   \n",
       "\n",
       "  unknowninjuries_driver fatal_driver majorinjuries_pedestrian  \\\n",
       "0                      0            0                        0   \n",
       "1                      1            0                        0   \n",
       "2                      0            0                        0   \n",
       "3                      0            0                        0   \n",
       "4                      0            0                        0   \n",
       "\n",
       "  minorinjuries_pedestrian unknowninjuries_pedestrian fatal_pedestrian  \\\n",
       "0                        0                          0                0   \n",
       "1                        0                          0                0   \n",
       "2                        0                          0                0   \n",
       "3                        0                          0                0   \n",
       "4                        0                          0                0   \n",
       "\n",
       "  total_vehicles total_bicycles total_pedestrians pedestriansimpaired  \\\n",
       "0              2              0                 0                   0   \n",
       "1              2              0                 0                   0   \n",
       "2              2              0                 0                   0   \n",
       "3              2              0                 0                   0   \n",
       "4              1              0                 0                   0   \n",
       "\n",
       "  bicyclistsimpaired driversimpaired total_taxis total_government  \\\n",
       "0                  0               0           0                0   \n",
       "1                  0               0           0                0   \n",
       "2                  0               0           0                0   \n",
       "3                  0               0           0                0   \n",
       "4                  0               0           0                0   \n",
       "\n",
       "  speeding_involved nearestintrouteid nearestintstreetname offintersection  \\\n",
       "0                 0          11002102           21ST ST NW           29.58   \n",
       "1                 0          47078992       Alley-47078992             3.9   \n",
       "2                 0                 0        Not Available               0   \n",
       "3                 0                 0        Not Available               0   \n",
       "4                 0          11023402         CHURCH ST NW             9.7   \n",
       "\n",
       "  intapproachdirection locationerror          lastupdatedate mpdlatitude  \\\n",
       "0            Southeast          None  2021/03/02 15:34:54+00   38.895097   \n",
       "1                 West          None                    None    38.90046   \n",
       "2                 East          None                    None   38.909049   \n",
       "3                 East          None                    None   38.863236   \n",
       "4                North          None                    None   38.910474   \n",
       "\n",
       "  mpdlongitude    mpdgeox    mpdgeoy blockkey subblockkey fatalpassenger  \\\n",
       "0   -77.046459  395821.03  136510.42     None        None              0   \n",
       "1   -76.943741  404910.56  137005.15     None        None              0   \n",
       "2   -77.004031  399873.44  138013.36     None        None              0   \n",
       "3    -76.99784  399975.57  132781.53     None        None              0   \n",
       "4   -77.041582     396436  138113.79     None        None              0   \n",
       "\n",
       "  majorinjuriespassenger minorinjuriespassenger unknowninjuriespassenger  \\\n",
       "0                      0                      0                        0   \n",
       "1                      0                      0                        0   \n",
       "2                      0                      0                        0   \n",
       "3                      0                      0                        0   \n",
       "4                      0                      0                        0   \n",
       "\n",
       "                              point       node_id  \\\n",
       "0  POINT (-8576925.536 4706840.462)           NaN   \n",
       "1  POINT (-8565328.717 4707513.450)           NaN   \n",
       "2  POINT (-8571763.206 4708785.457)           NaN   \n",
       "3  POINT (-8571360.341 4702100.194)  9.315321e+09   \n",
       "4  POINT (-8576175.243 4708891.751)           NaN   \n",
       "\n",
       "                                        t_point  \n",
       "0   POINT(-8576925.536285179 4706840.461730277)  \n",
       "1    POINT(-8565328.7170123 4707513.4504915355)  \n",
       "2  POINT(-8571763.206219133 4708785.4566755835)  \n",
       "3  POINT(-8571360.340981951 4702100.1935498305)  \n",
       "4    POINT(-8576175.242917232 4708891.75050524)  "
      ]
     },
     "execution_count": 222,
     "metadata": {},
     "output_type": "execute_result"
    }
   ],
   "source": [
    "df_crashes.head()"
   ]
  },
  {
   "cell_type": "markdown",
   "id": "74770cc0",
   "metadata": {},
   "source": [
    "# Format datatypes and define exposure window\n",
    "The idea is that the crash data is collected from various sources. By looking at the data it seems there are fairly uniform collections from 2009-2022. So the strategy is going to use this time frame as our exposure time (time we are recording data in DC), and assume all intersection crashes are accurately recorded during this time. "
   ]
  },
  {
   "cell_type": "code",
   "execution_count": 223,
   "id": "4be1e1fa",
   "metadata": {},
   "outputs": [],
   "source": [
    "# print([x for x in df_crashes.columns])\n",
    "\n",
    "new_dtypes = { \n",
    "#     \"crash_severity\": int,\n",
    "              \"majorinjuries_driver\": int,\n",
    "              \"majorinjuries_pedestrian\": int,\n",
    "              \"majorinjuriespassenger\": int,\n",
    "              \"fatal_driver\": int,\n",
    "              \"fatal_pedestrian\": int,\n",
    "              \"fatalpassenger\": int,\n",
    "              \"fatal_bicyclist\": int,\n",
    "#               \"num_legs\": int\n",
    "             }\n",
    "df_crashes = df_crashes.astype(new_dtypes)\n",
    "# dataframe = dataframe.astype(new_dtypes)\n",
    "\n",
    "\n",
    "df_crashes['reportdate'] =  pd.to_datetime(df_crashes['reportdate'])"
   ]
  },
  {
   "cell_type": "code",
   "execution_count": 224,
   "id": "e21504d7",
   "metadata": {},
   "outputs": [
    {
     "data": {
      "image/png": "[encoded data removed]",
      "text/plain": [
       "<Figure size 432x288 with 1 Axes>"
      ]
     },
     "metadata": {
      "needs_background": "light"
     },
     "output_type": "display_data"
    }
   ],
   "source": [
    "df_crashes['reportdate'].hist(bins=150)\n",
    "plt.yscale('log')\n",
    "plt.show()"
   ]
  },
  {
   "cell_type": "code",
   "execution_count": 225,
   "id": "2a56c9a1",
   "metadata": {},
   "outputs": [
    {
     "data": {
      "image/png": "[encoded data removed]",
      "text/plain": [
       "<Figure size 432x288 with 1 Axes>"
      ]
     },
     "metadata": {
      "needs_background": "light"
     },
     "output_type": "display_data"
    },
    {
     "name": "stdout",
     "output_type": "stream",
     "text": [
      "2009-01-01 05:00:00+00:00\n",
      "2019-12-31 23:59:56+00:00\n",
      "4016 days 18:59:56\n",
      "We will normalize the crashes to an exposure time of 11 +- 0.5 years\n"
     ]
    },
    {
     "data": {
      "text/plain": [
       "<AxesSubplot:>"
      ]
     },
     "execution_count": 225,
     "metadata": {},
     "output_type": "execute_result"
    },
    {
     "data": {
      "image/png": "[encoded data removed]",
      "text/plain": [
       "<Figure size 432x288 with 1 Axes>"
      ]
     },
     "metadata": {
      "needs_background": "light"
     },
     "output_type": "display_data"
    }
   ],
   "source": [
    "df_crashes['reportdate'].hist(bins=150)\n",
    "plt.yscale('log')\n",
    "plt.show()\n",
    "print(df_crashes[(df_crashes['reportdate'] > \"2009\") &(df_crashes['reportdate'] < \"2020\") ]['reportdate'].min())\n",
    "print(df_crashes[(df_crashes['reportdate'] > \"2009\") &(df_crashes['reportdate'] < \"2020\") ]['reportdate'].max())\n",
    "print((df_crashes[(df_crashes['reportdate'] > \"2009\") &(df_crashes['reportdate'] < \"2020\") ]['reportdate'].max())-\\\n",
    "      (df_crashes[(df_crashes['reportdate'] > \"2009\") &(df_crashes['reportdate'] < \"2020\") ]['reportdate'].min()))\n",
    "print(\"We will normalize the crashes to an exposure time of 11 +- 0.5 years\")\n",
    "\n",
    "df_crashes[(df_crashes['reportdate'] > \"2009\") &(df_crashes['reportdate'] < \"2022\") ]['reportdate'].hist(bins=150)\n",
    "# plt.yscale('log')"
   ]
  },
  {
   "cell_type": "code",
   "execution_count": 226,
   "id": "c8308a5a",
   "metadata": {},
   "outputs": [],
   "source": [
    "exposure_time = 11\n",
    "exposure_time_up = 11.5\n",
    "exposure_time_down = 10.5\n",
    "df_crashes = df_crashes[(df_crashes['reportdate'] > \"2009\") &(df_crashes['reportdate'] < \"2020\") ]\n",
    "# For now we will ignore systematic uncertainties\n",
    "\n",
    "# severe_columns = [x for x in df_crashes.columns if \"FATAL\" in x.upper() or \"MAJOR\" in x.upper()]\n",
    "# df_crashes_severe = df_crashes[ pd.DataFrame.any(df_crashes[severe_columns].astype(int) > 0,axis=1) ]"
   ]
  },
  {
   "cell_type": "markdown",
   "id": "e07c1ae0",
   "metadata": {},
   "source": [
    "# Major calculation section of the notebook - associating crashes to intersections\n",
    "Loop over intersections and calculate the crash rates for all, severe, and fatal crashes per intersection."
   ]
  },
  {
   "cell_type": "code",
   "execution_count": 227,
   "id": "aa7d0f67",
   "metadata": {},
   "outputs": [
    {
     "name": "stderr",
     "output_type": "stream",
     "text": [
      "/Users/dylan.frizzell/dot/database_building/.venv/lib/python3.9/site-packages/IPython/core/interactiveshell.py:3338: FutureWarning: The `op` parameter is deprecated and will be removed in a future release. Please use the `predicate` parameter instead.\n",
      "  if await self.run_code(code, result, async_=asy):\n"
     ]
    }
   ],
   "source": [
    "# temp = df\n",
    "temp_crashes = df_crashes.copy()\n",
    "temp_crashes.geometry = df_crashes.geometry.buffer(15)\n",
    "full = gpd.sjoin(df,temp_crashes,op='within')\n",
    "\n",
    "minor_crashes_lookup = full[['node_id_left','mar_score']]\\\n",
    "[(full['total_vehicles'].apply(int)==2) &\\\n",
    " ~((full['minorinjuries_driver']>0) |\\\n",
    "   (full['minorinjuriespassenger']>0) |\\\n",
    "   (full['fatal_driver']>0) |\\\n",
    "   (full['fatalpassenger']>0) |\\\n",
    "   (full['minorinjuries_bicyclist'].apply(int)>0) |\\\n",
    "   (full['minorinjuries_pedestrian'].apply(int)>0))].groupby('node_id_left').count()/11 #years\n",
    "\n",
    "major_crashes_lookup = full[['node_id_left','mar_score']]\\\n",
    "[(full['total_vehicles'].apply(int)==2) &\\\n",
    " ((full['majorinjuries_driver']>0) |\\\n",
    "   (full['majorinjuriespassenger']>0) |\\\n",
    "   (full['fatal_driver']>0) |\\\n",
    "   (full['fatalpassenger']>0) |\\\n",
    "   (full['majorinjuries_bicyclist'].apply(int)>0) |\\\n",
    "   (full['majorinjuries_pedestrian'].apply(int)>0))].groupby('node_id_left').count()/11 #years \n"
   ]
  },
  {
   "cell_type": "markdown",
   "id": "99ba1712",
   "metadata": {},
   "source": [
    "#### Clean up the lookup tables"
   ]
  },
  {
   "cell_type": "code",
   "execution_count": 228,
   "id": "46b5e66c",
   "metadata": {},
   "outputs": [],
   "source": [
    "df.index = df.node_id\n",
    "minor_crashes_lookup.index.rename('node_id',inplace=True)\n",
    "minor_crashes_lookup.rename(columns={'mar_score':\"minor_crashes\"},inplace=True)\n",
    "major_crashes_lookup.index.rename('node_id',inplace=True)\n",
    "major_crashes_lookup.rename(columns={'mar_score':\"major_crashes\"},inplace=True)"
   ]
  },
  {
   "cell_type": "code",
   "execution_count": 229,
   "id": "cc973012",
   "metadata": {},
   "outputs": [],
   "source": [
    "final = df.join(minor_crashes_lookup).join(major_crashes_lookup)\n",
    "# minor_crashes_lookup.loc[30993407]"
   ]
  },
  {
   "cell_type": "markdown",
   "id": "34e6f841",
   "metadata": {},
   "source": [
    "### Count number of nearby intersections\n",
    "And create compound feature variables based on spatial context"
   ]
  },
  {
   "cell_type": "code",
   "execution_count": 230,
   "id": "57aca279",
   "metadata": {},
   "outputs": [],
   "source": [
    "temp_final = final.copy()\n",
    "temp_final.geometry = temp_final.geometry.buffer(50)\n"
   ]
  },
  {
   "cell_type": "code",
   "execution_count": 231,
   "id": "4c035a06",
   "metadata": {},
   "outputs": [
    {
     "name": "stderr",
     "output_type": "stream",
     "text": [
      "/Users/dylan.frizzell/dot/database_building/.venv/lib/python3.9/site-packages/IPython/core/interactiveshell.py:3338: FutureWarning: The `op` parameter is deprecated and will be removed in a future release. Please use the `predicate` parameter instead.\n",
      "  if await self.run_code(code, result, async_=asy):\n"
     ]
    }
   ],
   "source": [
    "final_self_join = gpd.sjoin(final,temp_final,op=\"within\")"
   ]
  },
  {
   "cell_type": "code",
   "execution_count": 232,
   "id": "042bb3c1",
   "metadata": {},
   "outputs": [],
   "source": [
    "average_aadt_lookup = final_self_join[['node_id_left','aadt_right']].groupby('node_id_left').mean()\n",
    "node_density_lookup = final_self_join[['node_id_left','aadt_right']].groupby('node_id_left').count()\n"
   ]
  },
  {
   "cell_type": "code",
   "execution_count": 233,
   "id": "7b143f65",
   "metadata": {},
   "outputs": [],
   "source": [
    "average_aadt_lookup.rename(columns={'node_id_left':'node_id',\n",
    "                                    'aadt_right':'aadt_mean'},inplace=True)\n",
    "node_density_lookup.rename(columns={'node_id_left':'node_id',\n",
    "                                    'aadt_right':'node_density'},inplace=True)"
   ]
  },
  {
   "cell_type": "code",
   "execution_count": 234,
   "id": "cc03d610",
   "metadata": {},
   "outputs": [],
   "source": [
    "final = final.join(average_aadt_lookup).join(node_density_lookup)"
   ]
  },
  {
   "cell_type": "markdown",
   "id": "e84a70fe",
   "metadata": {},
   "source": [
    "#### Apply a few data cleaning steps"
   ]
  },
  {
   "cell_type": "code",
   "execution_count": 235,
   "id": "2e508ae8",
   "metadata": {},
   "outputs": [],
   "source": [
    "final[\"maxspeed\"] = final['maxspeed'].apply(lambda x : str(x).replace(\"mph\",\"\").replace(\" mph\",\"\").replace('35, 25 When Lights Flash','35').replace('15, 30','30') if x else np.nan).apply(lambda x: x if x != \"24.14\" else np.nan).astype(float)\n",
    "final[\"minspeed\"] = final['minspeed'].apply(lambda x : str(x).replace(\"mph\",\"\").replace(\" mph\",\"\").replace('35, 25 When Lights Flash','35').replace('15, 30','30') if x else np.nan).apply(lambda x: x if x != \"24.14\" else np.nan).astype(float)\n",
    "\n"
   ]
  },
  {
   "cell_type": "code",
   "execution_count": 236,
   "id": "e6d6a02c",
   "metadata": {},
   "outputs": [],
   "source": [
    "final['min_angle'] = final['min_angle'].apply(float)\n",
    "final['second_min_angle'] = final['second_min_angle'].apply(float)\n",
    "final['second_min_angle'] = final['second_min_angle'].apply(float)\n",
    "final['surface_types'] = final['surface_types'].apply(lambda x : x[0] if x else np.nan)"
   ]
  },
  {
   "cell_type": "code",
   "execution_count": 237,
   "id": "54a0c6fe",
   "metadata": {},
   "outputs": [],
   "source": [
    "final['major_crashes'] = final.major_crashes.fillna(0)\n",
    "final['minor_crashes'] = final.minor_crashes.fillna(0)"
   ]
  },
  {
   "cell_type": "markdown",
   "id": "6e66a6ef",
   "metadata": {},
   "source": [
    "# Save the final input dataset as a temporary csv file\n",
    "This one one can recreate the analysis without standing up the entire postgres database."
   ]
  },
  {
   "cell_type": "code",
   "execution_count": 238,
   "id": "af462482",
   "metadata": {},
   "outputs": [],
   "source": [
    "# df_int.head(50)\n",
    "final.to_csv('dc_df_before_modeling.csv')"
   ]
  },
  {
   "cell_type": "code",
   "execution_count": 491,
   "id": "6d5fecfc",
   "metadata": {},
   "outputs": [],
   "source": [
    "target_var = \"major_crashes\"# \"major_crashes\"\n",
    "\n",
    "X = final[[\n",
    "        'legs',\n",
    "       'ramp_roads',\n",
    "       'oneways',\n",
    "       'maxspeed',\n",
    "       'minspeed',\n",
    "       'surface_types',\n",
    "       'aadt',\n",
    "       'min_angle',\n",
    "       'second_min_angle',\n",
    "       'junction_geometry_type_id',\n",
    "       'junction_type_id',\n",
    "       'num_lanes',\n",
    "       'highway_type',\n",
    "       'aadt_mean',\n",
    "       'node_density',\n",
    "#        'minor_crashes',\n",
    "#        'major_crashes'\n",
    "      ]].copy()\n",
    "\n",
    "X = X[~X.aadt.isna().values]\n",
    "# For some fields if there are blank entries we will take the most common as grouped by highway type\n",
    "\n",
    "lookup_X = X.groupby('highway_type').mean()\n",
    "\n",
    "for i,row in X.iterrows():\n",
    "    if np.isnan(row['maxspeed']):\n",
    "#         print(\"blah\")\n",
    "#         row['aadt'] = X[X.highway_type == row['highway_type']]['aadt'].mean()\n",
    "#         row['aadt_mean'] = X[X.highway_type == row['highway_type']]['aadt_mean'].mean()\n",
    "        row['maxspeed'] = lookup_X.loc[row['highway_type']]['maxspeed']\n",
    "        row['minspeed'] = lookup_X.loc[row['highway_type']]['minspeed']\n",
    "    if np.isnan(row['aadt']):\n",
    "#         print(\"blah\")\n",
    "#         row['aadt'] = X[X.highway_type == row['highway_type']]['aadt'].mean()\n",
    "#         row['aadt_mean'] = X[X.highway_type == row['highway_type']]['aadt_mean'].mean()\n",
    "        row['aadt'] = lookup_X.loc[row['highway_type']]['aadt']\n",
    "#         row['minspeed'] = lookup_X.loc[row['highway_type']]['minspeed']\n",
    "#         row['surface_types'] = X[X.highway_type == row['highway_type']]['surface_types'].mode()\n",
    "\n",
    "\n",
    "y = final[[target_var,\n",
    "      ]] \n",
    "\n",
    "y = y.loc[X.index.values]\n",
    "\n",
    "# X['aadt'] = np.nan\n",
    "# X['node_density'] = np.nan\n",
    "\n"
   ]
  },
  {
   "cell_type": "code",
   "execution_count": 516,
   "id": "f61944e2",
   "metadata": {
    "scrolled": true
   },
   "outputs": [
    {
     "name": "stdout",
     "output_type": "stream",
     "text": [
      "95% CL +/- using Poisson distributionmajor_crashes    0.261612\n",
      "dtype: float64\n"
     ]
    },
    {
     "name": "stderr",
     "output_type": "stream",
     "text": [
      "/Users/dylan.frizzell/dot/database_building/.venv/lib/python3.9/site-packages/numpy/core/fromnumeric.py:3472: FutureWarning: In a future version, DataFrame.mean(axis=None) will return a scalar mean over the entire DataFrame. To retain the old behavior, use 'frame.mean(axis=0)' or just 'frame.mean()'\n",
      "  return mean(axis=axis, dtype=dtype, out=out, **kwargs)\n"
     ]
    }
   ],
   "source": [
    "print(\"95% CL +/- using Poisson distribution\" + str(np.sqrt( np.mean((y - y.mean())**2 ))*2.1))"
   ]
  },
  {
   "cell_type": "code",
   "execution_count": 493,
   "id": "c1b36cd3",
   "metadata": {},
   "outputs": [],
   "source": [
    "from sklearn.compose import ColumnTransformer\n",
    "from sklearn.datasets import fetch_openml\n",
    "from sklearn.pipeline import Pipeline\n",
    "from sklearn.impute import SimpleImputer\n",
    "from sklearn.preprocessing import StandardScaler, OneHotEncoder, PolynomialFeatures\n",
    "from sklearn.linear_model import LogisticRegression\n",
    "from sklearn.ensemble import GradientBoostingRegressor\n",
    "from sklearn.model_selection import train_test_split, GridSearchCV\n",
    "from sklearn.neural_network import MLPRegressor\n",
    "import joblib\n",
    "from sklearn.metrics import explained_variance_score\n"
   ]
  },
  {
   "cell_type": "code",
   "execution_count": 494,
   "id": "3700b930",
   "metadata": {},
   "outputs": [],
   "source": [
    "# clf = joblib.load('iowa_trained.pkl')"
   ]
  },
  {
   "cell_type": "code",
   "execution_count": 495,
   "id": "1a99d935",
   "metadata": {
    "scrolled": true
   },
   "outputs": [
    {
     "name": "stdout",
     "output_type": "stream",
     "text": [
      "Explained variance: 0.244\n"
     ]
    }
   ],
   "source": [
    "\n",
    "numeric_features = [\n",
    "                    \"oneways\",\n",
    "                    \"maxspeed\",\n",
    "                    \"minspeed\",\n",
    "                    \"min_angle\",\n",
    "                    \"second_min_angle\",\n",
    "                    \"num_lanes\",\n",
    "                    \"aadt\",\n",
    "                    'aadt_mean',\n",
    "                    'node_density',\n",
    "                   ]\n",
    "numeric_transformer = Pipeline(\n",
    "    steps=[\n",
    "           (\"imputer\", SimpleImputer(strategy=\"median\")),\n",
    "#            ('poly',PolynomialFeatures()),\n",
    "           (\"scaler\", StandardScaler()) , ]\n",
    ")\n",
    "\n",
    "categorical_features = [\n",
    "        'legs',\n",
    "       'ramp_roads',\n",
    "       'surface_types',\n",
    "       'junction_geometry_type_id',\n",
    "        'junction_type_id',\n",
    "       'highway_type',\n",
    "      ]\n",
    "categorical_transformer = OneHotEncoder(handle_unknown=\"ignore\")\n",
    "\n",
    "preprocessor = ColumnTransformer(\n",
    "    transformers=[\n",
    "                (\"num\", numeric_transformer, numeric_features),\n",
    "        (\"cat\", categorical_transformer, categorical_features),\n",
    "    ]\n",
    ")\n",
    "\n",
    "\n",
    "lr = [0.0002]\n",
    "depth = [8,]\n",
    "nodes = [125,]\n",
    "\n",
    "experiments = []\n",
    "for l in lr:\n",
    "    for d in depth:\n",
    "        for n in nodes:\n",
    "\n",
    "            clf = Pipeline(\n",
    "                steps=[(\"preprocessor\", preprocessor),\n",
    "                       (\"model\", \n",
    "                                MLPRegressor((n)*d,\n",
    "                                                learning_rate_init=l,\n",
    "                                                 alpha=0.5,\n",
    "                                                random_state=1,early_stopping=True,\n",
    "                                                max_iter=500)\n",
    "                       )]\n",
    "            )\n",
    "\n",
    "            X_train, X_test, y_train, y_test = train_test_split(X, y, test_size=0.2, random_state=0)\n",
    "            clf.fit(X_train, np.ravel(y_train))\n",
    "            score = clf.score(X_test, y_test)\n",
    "            print(\"Explained variance: %.3f\" % score)\n",
    "#             explained_variance_score(y_test[target_var].values,clf.predict(X_test))\n",
    "            \n",
    "            experiments.append({'depth':d,\n",
    "                                'learning rate': l,\n",
    "                                'nodes': n,\n",
    "                                'score': score})"
   ]
  },
  {
   "cell_type": "markdown",
   "id": "ac1d4cb3",
   "metadata": {},
   "source": [
    "### The explained variance above \n",
    "describes the percent of the test set's variance that can be explained away with the model"
   ]
  },
  {
   "cell_type": "code",
   "execution_count": 496,
   "id": "81e3a627",
   "metadata": {},
   "outputs": [
    {
     "data": {
      "image/png": "[encoded data removed]",
      "text/plain": [
       "<Figure size 432x288 with 1 Axes>"
      ]
     },
     "metadata": {
      "needs_background": "light"
     },
     "output_type": "display_data"
    },
    {
     "name": "stdout",
     "output_type": "stream",
     "text": [
      "The 95% CL interval for the predictions can be estiamted to be +/- 0.21985418502107693\n"
     ]
    }
   ],
   "source": [
    "plt.hist( (y_test[target_var].values-clf.predict(X_test)),bins=100)\n",
    "plt.title(target_var +' Test Set Residuals')\n",
    "plt.yscale(\"log\")\n",
    "plt.show()\n",
    "\n",
    "print(\"The 95% CL interval for the predictions can be estiamted to be +/- \" +\\\n",
    "      str(np.sqrt(np.mean( (y_test[target_var].values - clf.predict(X_test))**2 ) )*2.1))\n"
   ]
  },
  {
   "cell_type": "markdown",
   "id": "4def0cba",
   "metadata": {},
   "source": [
    "### To make sure there is no overtraining,\n",
    "We will also check the training set's residuals. If these two distributions have similar width, we can say there is negligible overtraining."
   ]
  },
  {
   "cell_type": "code",
   "execution_count": 497,
   "id": "3ae9b5dd",
   "metadata": {},
   "outputs": [
    {
     "data": {
      "image/png": "[encoded data removed]",
      "text/plain": [
       "<Figure size 432x288 with 1 Axes>"
      ]
     },
     "metadata": {
      "needs_background": "light"
     },
     "output_type": "display_data"
    },
    {
     "name": "stdout",
     "output_type": "stream",
     "text": [
      "The 95% CL interval for the predictions can be estiamted to be +/- 0.22591835966607832\n"
     ]
    }
   ],
   "source": [
    "plt.hist(y_train[target_var].values-clf.predict(X_train),bins=100)\n",
    "plt.title(target_var +' Training Set Residuals')\n",
    "plt.yscale(\"log\")\n",
    "plt.show()\n",
    "print(\"The 95% CL interval for the predictions can be estiamted to be +/- \" +\\\n",
    "      str(np.sqrt(np.mean( (y_train[target_var].values - clf.predict(X_train))**2 ) )*2.1))"
   ]
  },
  {
   "cell_type": "markdown",
   "id": "72239a55",
   "metadata": {},
   "source": [
    "### Apply the model predictions to the full dataset"
   ]
  },
  {
   "cell_type": "code",
   "execution_count": 498,
   "id": "92830ecf",
   "metadata": {},
   "outputs": [],
   "source": [
    "final['predicted_'+target_var] = clf.predict(final)"
   ]
  },
  {
   "cell_type": "code",
   "execution_count": 503,
   "id": "0e37784a",
   "metadata": {},
   "outputs": [],
   "source": [
    "final.to_csv(\"dc_case_study.csv\")"
   ]
  },
  {
   "cell_type": "code",
   "execution_count": 514,
   "id": "52ac724a",
   "metadata": {
    "scrolled": true
   },
   "outputs": [],
   "source": [
    "\n",
    "# clf.predict(final)\n",
    "# final.sort_values('predicted_'+target_var,ascending=False).head(25)\n"
   ]
  },
  {
   "cell_type": "code",
   "execution_count": 520,
   "id": "d7525b1c",
   "metadata": {},
   "outputs": [
    {
     "name": "stderr",
     "output_type": "stream",
     "text": [
      "/Users/dylan.frizzell/dot/database_building/.venv/lib/python3.9/site-packages/seaborn/_decorators.py:36: FutureWarning: Pass the following variables as keyword args: x, y. From version 0.12, the only valid positional argument will be `data`, and passing other arguments without an explicit keyword will result in an error or misinterpretation.\n",
      "  warnings.warn(\n"
     ]
    },
    {
     "data": {
      "image/png": "[encoded data removed]",
      "text/plain": [
       "<Figure size 432x288 with 1 Axes>"
      ]
     },
     "metadata": {
      "needs_background": "light"
     },
     "output_type": "display_data"
    }
   ],
   "source": [
    "# plt.scatter(y_test[target_var].values , clf.predict(X_test))\n",
    "# plt.title(\"Prediction vs. Target\")\n",
    "# plt.show()\n",
    "ax = sns.regplot(y_test[target_var].values , clf.predict(X_test), x_jitter=0.1,)\n"
   ]
  },
  {
   "cell_type": "code",
   "execution_count": 505,
   "id": "f77bcf2d",
   "metadata": {},
   "outputs": [
    {
     "data": {
      "image/png": "[encoded data removed]",
      "text/plain": [
       "<Figure size 432x288 with 1 Axes>"
      ]
     },
     "metadata": {
      "needs_background": "light"
     },
     "output_type": "display_data"
    }
   ],
   "source": [
    "plt.hist(clf.predict(X),bins=50)\n",
    "plt.title(target_var + \" Predictions\")\n",
    "plt.xlabel('Crashes per year')\n",
    "\n",
    "plt.yscale(\"log\")\n",
    "plt.show()"
   ]
  },
  {
   "cell_type": "code",
   "execution_count": 506,
   "id": "70c8714c",
   "metadata": {},
   "outputs": [
    {
     "data": {
      "image/png": "[encoded data removed]",
      "text/plain": [
       "<Figure size 432x288 with 1 Axes>"
      ]
     },
     "metadata": {
      "needs_background": "light"
     },
     "output_type": "display_data"
    }
   ],
   "source": [
    "plt.hist(y[target_var].values,bins=50)\n",
    "plt.title(target_var)\n",
    "plt.xlabel('Crashes per year')\n",
    "plt.yscale(\"log\")\n",
    "plt.show()"
   ]
  },
  {
   "cell_type": "code",
   "execution_count": null,
   "id": "f9b25a38",
   "metadata": {},
   "outputs": [],
   "source": []
  }
 ],
 "metadata": {
  "kernelspec": {
   "display_name": "Python 3 (ipykernel)",
   "language": "python",
   "name": "python3"
  },
  "language_info": {
   "codemirror_mode": {
    "name": "ipython",
    "version": 3
   },
   "file_extension": ".py",
   "mimetype": "text/x-python",
   "name": "python",
   "nbconvert_exporter": "python",
   "pygments_lexer": "ipython3",
   "version": "3.9.9"
  }
 },
 "nbformat": 4,
 "nbformat_minor": 5
}
