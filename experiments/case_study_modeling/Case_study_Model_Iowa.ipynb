{
 "cells": [
  {
   "cell_type": "markdown",
   "id": "f98cbd34",
   "metadata": {},
   "source": [
    "# Model to predict crash propensity from intersection features in Iowa\n",
    "This notebook will train a deep machine learning model and apply its predictions onto the Iowa case study dataset."
   ]
  },
  {
   "cell_type": "code",
   "execution_count": 31,
   "id": "6c66f2f4",
   "metadata": {},
   "outputs": [],
   "source": [
    "import pandas as pd\n",
    "import numpy as np\n",
    "import matplotlib.pyplot as plt\n",
    "import os\n",
    "import psycopg2\n",
    "from geopy.distance import distance as geo_distance\n",
    "import geopandas as gpd\n",
    "import pdb\n",
    "import matplotlib as mpl\n",
    "import seaborn as sns\n",
    "\n",
    "mpl.rcParams['axes.linewidth'] = 3\n",
    "pd.set_option('display.max_columns', 500)\n",
    "pd.set_option('display.max_rows', 500)"
   ]
  },
  {
   "cell_type": "markdown",
   "id": "04bef13a",
   "metadata": {},
   "source": [
    "# Analysis idea:\n",
    "\n",
    "Loop over each intersection. Extract the num crashes within a certain radius. Calculate the number of crashes per yea for each unique intersection. Use a decision tree that uses a gini index on just the num-legs, angle data or some other simple model As we gather more quality feature data more sophisticated methods can replace the decision tree. Use the standard deviation of poisson distribution to calculate the confidence interval."
   ]
  },
  {
   "cell_type": "code",
   "execution_count": 32,
   "id": "68bdaa1c",
   "metadata": {},
   "outputs": [],
   "source": [
    "POSTGRES_DB= 'rws'\n",
    "POSTGRES_PASSWORD= 'ug_password'\n",
    "POSTGRES_USER= 'ug_username'\n",
    "CURRENT_DIR= os.getcwd()\n",
    "    \n",
    "conn = psycopg2.connect(f\"host=localhost dbname={POSTGRES_DB} user={POSTGRES_USER} password={POSTGRES_PASSWORD} port=5433\")\n"
   ]
  },
  {
   "cell_type": "code",
   "execution_count": 33,
   "id": "fd0ea165",
   "metadata": {},
   "outputs": [
    {
     "name": "stderr",
     "output_type": "stream",
     "text": [
      "/Users/dylan.frizzell/dot/database_building/.venv/lib/python3.9/site-packages/pandas/io/sql.py:761: UserWarning: pandas only support SQLAlchemy connectable(engine/connection) ordatabase string URI or sqlite3 DBAPI2 connectionother DBAPI2 objects are not tested, please consider using SQLAlchemy\n",
      "  warnings.warn(\n"
     ]
    }
   ],
   "source": [
    "sql_full = f\"\"\"\n",
    "SELECT \n",
    "  ni.node_id,\n",
    "  ni.point3857,\n",
    "  ni.lat,\n",
    "  ni.long,\n",
    "  ni.legs,\n",
    "  int_feat.way_lines,\n",
    "  int_feat.ramp_roads,\n",
    "  int_feat.bikepaths,\n",
    "  int_feat.footways,\n",
    "  int_feat.oneways,\n",
    "  int_feat.maxspeed,\n",
    "  int_feat.minspeed,\n",
    "  int_feat.surface_types,\n",
    "  int_feat.aadt,\n",
    "  int_feat.min_angle,\n",
    "  int_feat.second_min_angle,\n",
    "  int_feat.junction_geometry_type_id,\n",
    "  int_feat.junction_type_id,\n",
    "  sum(cast(\n",
    "  case\n",
    "        when length(wfv.lanes)>2 then null\n",
    "        when wfv.lanes is null then null\n",
    "        when wfv.lanes = '' then null\n",
    "        else wfv.lanes\n",
    "    end\n",
    "    as int\n",
    "  )) as num_lanes,\n",
    " mode() WITHIN GROUP (ORDER BY wfv.highway) AS  highway_type\n",
    "from \n",
    "  rws.iowa.node_intersections ni \n",
    "inner join \n",
    "  rws.iowa.intersection_features int_feat  on int_feat.node_id=ni.node_id \n",
    " join \n",
    "  rws.iowa.curated_way_feature_view wfv on wfv.node_id=ni.node_id  \n",
    "\n",
    "group by \n",
    "  ni.node_id,\n",
    "  ni.point3857,\n",
    "  ni.lat,\n",
    "  ni.long,\n",
    "  ni.legs,\n",
    "  int_feat.way_lines,\n",
    "  int_feat.ramp_roads,\n",
    "  int_feat.bikepaths,\n",
    "  int_feat.footways,\n",
    "  int_feat.oneways,\n",
    "  int_feat.maxspeed,\n",
    "  int_feat.minspeed,\n",
    "  int_feat.surface_types,\n",
    "  int_feat.aadt,\n",
    "  int_feat.min_angle,\n",
    "  int_feat.second_min_angle,\n",
    "  int_feat.junction_geometry_type_id,\n",
    "  int_feat.junction_type_id;\n",
    "\"\"\"\n",
    "\n",
    "df = gpd.read_postgis(sql_full,\n",
    "                      conn,\n",
    "                      geom_col=\"point3857\")"
   ]
  },
  {
   "cell_type": "code",
   "execution_count": 34,
   "id": "dc6c8473",
   "metadata": {},
   "outputs": [
    {
     "data": {
      "text/html": [
       "<div>\n",
       "<style scoped>\n",
       "    .dataframe tbody tr th:only-of-type {\n",
       "        vertical-align: middle;\n",
       "    }\n",
       "\n",
       "    .dataframe tbody tr th {\n",
       "        vertical-align: top;\n",
       "    }\n",
       "\n",
       "    .dataframe thead th {\n",
       "        text-align: right;\n",
       "    }\n",
       "</style>\n",
       "<table border=\"1\" class=\"dataframe\">\n",
       "  <thead>\n",
       "    <tr style=\"text-align: right;\">\n",
       "      <th></th>\n",
       "      <th>node_id</th>\n",
       "      <th>point3857</th>\n",
       "      <th>lat</th>\n",
       "      <th>long</th>\n",
       "      <th>legs</th>\n",
       "      <th>way_lines</th>\n",
       "      <th>ramp_roads</th>\n",
       "      <th>bikepaths</th>\n",
       "      <th>footways</th>\n",
       "      <th>oneways</th>\n",
       "      <th>maxspeed</th>\n",
       "      <th>minspeed</th>\n",
       "      <th>surface_types</th>\n",
       "      <th>aadt</th>\n",
       "      <th>min_angle</th>\n",
       "      <th>second_min_angle</th>\n",
       "      <th>junction_geometry_type_id</th>\n",
       "      <th>junction_type_id</th>\n",
       "      <th>num_lanes</th>\n",
       "      <th>highway_type</th>\n",
       "    </tr>\n",
       "  </thead>\n",
       "  <tbody>\n",
       "    <tr>\n",
       "      <th>11566</th>\n",
       "      <td>158976143</td>\n",
       "      <td>POINT (-10263930.240 5172376.232)</td>\n",
       "      <td>42.076037</td>\n",
       "      <td>-92.202454</td>\n",
       "      <td>3</td>\n",
       "      <td>0105000020110F00000300000001020000000200000032...</td>\n",
       "      <td>0</td>\n",
       "      <td>0</td>\n",
       "      <td>0</td>\n",
       "      <td>0</td>\n",
       "      <td>None</td>\n",
       "      <td>None</td>\n",
       "      <td>[asphalt]</td>\n",
       "      <td>5102021.0</td>\n",
       "      <td>84.254445</td>\n",
       "      <td>95.772991</td>\n",
       "      <td>1.0</td>\n",
       "      <td>1</td>\n",
       "      <td>NaN</td>\n",
       "      <td>service</td>\n",
       "    </tr>\n",
       "    <tr>\n",
       "      <th>29615</th>\n",
       "      <td>159107460</td>\n",
       "      <td>POINT (-10263932.289 5170805.229)</td>\n",
       "      <td>42.065561</td>\n",
       "      <td>-92.202472</td>\n",
       "      <td>3</td>\n",
       "      <td>0105000020110F000003000000010200000002000000F6...</td>\n",
       "      <td>0</td>\n",
       "      <td>0</td>\n",
       "      <td>0</td>\n",
       "      <td>0</td>\n",
       "      <td>None</td>\n",
       "      <td>None</td>\n",
       "      <td>[asphalt, gravel]</td>\n",
       "      <td>5102021.0</td>\n",
       "      <td>89.705603</td>\n",
       "      <td>90.535118</td>\n",
       "      <td>1.0</td>\n",
       "      <td>1</td>\n",
       "      <td>NaN</td>\n",
       "      <td>residential</td>\n",
       "    </tr>\n",
       "    <tr>\n",
       "      <th>227022</th>\n",
       "      <td>160782585</td>\n",
       "      <td>POINT (-10428298.511 5099945.097)</td>\n",
       "      <td>41.591244</td>\n",
       "      <td>-93.678999</td>\n",
       "      <td>3</td>\n",
       "      <td>0105000020110F000003000000010200000002000000E9...</td>\n",
       "      <td>1</td>\n",
       "      <td>0</td>\n",
       "      <td>0</td>\n",
       "      <td>3</td>\n",
       "      <td>60 mph</td>\n",
       "      <td>60 mph</td>\n",
       "      <td>[asphalt]</td>\n",
       "      <td>139000.0</td>\n",
       "      <td>6.059001</td>\n",
       "      <td>176.160547</td>\n",
       "      <td>NaN</td>\n",
       "      <td>2</td>\n",
       "      <td>4.0</td>\n",
       "      <td>motorway</td>\n",
       "    </tr>\n",
       "    <tr>\n",
       "      <th>241471</th>\n",
       "      <td>160909686</td>\n",
       "      <td>POINT (-10429267.592 5100085.739)</td>\n",
       "      <td>41.592189</td>\n",
       "      <td>-93.687705</td>\n",
       "      <td>3</td>\n",
       "      <td>0105000020110F00000300000001020000000200000015...</td>\n",
       "      <td>1</td>\n",
       "      <td>0</td>\n",
       "      <td>0</td>\n",
       "      <td>3</td>\n",
       "      <td>60 mph</td>\n",
       "      <td>60 mph</td>\n",
       "      <td>[asphalt]</td>\n",
       "      <td>139000.0</td>\n",
       "      <td>7.894705</td>\n",
       "      <td>172.049990</td>\n",
       "      <td>NaN</td>\n",
       "      <td>2</td>\n",
       "      <td>4.0</td>\n",
       "      <td>motorway</td>\n",
       "    </tr>\n",
       "    <tr>\n",
       "      <th>224982</th>\n",
       "      <td>160760385</td>\n",
       "      <td>POINT (-10427437.410 5100053.901)</td>\n",
       "      <td>41.591975</td>\n",
       "      <td>-93.671264</td>\n",
       "      <td>3</td>\n",
       "      <td>0105000020110F000003000000010200000002000000E3...</td>\n",
       "      <td>1</td>\n",
       "      <td>0</td>\n",
       "      <td>0</td>\n",
       "      <td>3</td>\n",
       "      <td>60 mph</td>\n",
       "      <td>60 mph</td>\n",
       "      <td>[asphalt]</td>\n",
       "      <td>134700.0</td>\n",
       "      <td>18.327115</td>\n",
       "      <td>161.327017</td>\n",
       "      <td>NaN</td>\n",
       "      <td>2</td>\n",
       "      <td>9.0</td>\n",
       "      <td>motorway</td>\n",
       "    </tr>\n",
       "  </tbody>\n",
       "</table>\n",
       "</div>"
      ],
      "text/plain": [
       "          node_id                          point3857        lat       long  \\\n",
       "11566   158976143  POINT (-10263930.240 5172376.232)  42.076037 -92.202454   \n",
       "29615   159107460  POINT (-10263932.289 5170805.229)  42.065561 -92.202472   \n",
       "227022  160782585  POINT (-10428298.511 5099945.097)  41.591244 -93.678999   \n",
       "241471  160909686  POINT (-10429267.592 5100085.739)  41.592189 -93.687705   \n",
       "224982  160760385  POINT (-10427437.410 5100053.901)  41.591975 -93.671264   \n",
       "\n",
       "        legs                                          way_lines  ramp_roads  \\\n",
       "11566      3  0105000020110F00000300000001020000000200000032...           0   \n",
       "29615      3  0105000020110F000003000000010200000002000000F6...           0   \n",
       "227022     3  0105000020110F000003000000010200000002000000E9...           1   \n",
       "241471     3  0105000020110F00000300000001020000000200000015...           1   \n",
       "224982     3  0105000020110F000003000000010200000002000000E3...           1   \n",
       "\n",
       "        bikepaths  footways  oneways maxspeed minspeed      surface_types  \\\n",
       "11566           0         0        0     None     None          [asphalt]   \n",
       "29615           0         0        0     None     None  [asphalt, gravel]   \n",
       "227022          0         0        3   60 mph   60 mph          [asphalt]   \n",
       "241471          0         0        3   60 mph   60 mph          [asphalt]   \n",
       "224982          0         0        3   60 mph   60 mph          [asphalt]   \n",
       "\n",
       "             aadt  min_angle  second_min_angle  junction_geometry_type_id  \\\n",
       "11566   5102021.0  84.254445         95.772991                        1.0   \n",
       "29615   5102021.0  89.705603         90.535118                        1.0   \n",
       "227022   139000.0   6.059001        176.160547                        NaN   \n",
       "241471   139000.0   7.894705        172.049990                        NaN   \n",
       "224982   134700.0  18.327115        161.327017                        NaN   \n",
       "\n",
       "        junction_type_id  num_lanes highway_type  \n",
       "11566                  1        NaN      service  \n",
       "29615                  1        NaN  residential  \n",
       "227022                 2        4.0     motorway  \n",
       "241471                 2        4.0     motorway  \n",
       "224982                 2        9.0     motorway  "
      ]
     },
     "execution_count": 34,
     "metadata": {},
     "output_type": "execute_result"
    }
   ],
   "source": [
    "df.sort_values('aadt',ascending=False).head(5)"
   ]
  },
  {
   "cell_type": "markdown",
   "id": "efbb3293",
   "metadata": {},
   "source": [
    "# The following code build a dataset of historical crash data"
   ]
  },
  {
   "cell_type": "code",
   "execution_count": 35,
   "id": "ae860405",
   "metadata": {},
   "outputs": [
    {
     "name": "stderr",
     "output_type": "stream",
     "text": [
      "/Users/dylan.frizzell/dot/database_building/.venv/lib/python3.9/site-packages/pandas/io/sql.py:761: UserWarning: pandas only support SQLAlchemy connectable(engine/connection) ordatabase string URI or sqlite3 DBAPI2 connectionother DBAPI2 objects are not tested, please consider using SQLAlchemy\n",
      "  warnings.warn(\n"
     ]
    }
   ],
   "source": [
    "sql_crashes = f\"\"\"SELECT *,ST_AsText(iowa.point) as t_point from rws.iowa.crashes as iowa \"\"\"\n",
    "\n",
    "df_crashes = gpd.read_postgis(sql_crashes, conn,geom_col=\"point\")"
   ]
  },
  {
   "cell_type": "code",
   "execution_count": 36,
   "id": "725decf8",
   "metadata": {},
   "outputs": [
    {
     "data": {
      "text/html": [
       "<div>\n",
       "<style scoped>\n",
       "    .dataframe tbody tr th:only-of-type {\n",
       "        vertical-align: middle;\n",
       "    }\n",
       "\n",
       "    .dataframe tbody tr th {\n",
       "        vertical-align: top;\n",
       "    }\n",
       "\n",
       "    .dataframe thead th {\n",
       "        text-align: right;\n",
       "    }\n",
       "</style>\n",
       "<table border=\"1\" class=\"dataframe\">\n",
       "  <thead>\n",
       "    <tr style=\"text-align: right;\">\n",
       "      <th></th>\n",
       "      <th>node_id</th>\n",
       "      <th>point</th>\n",
       "      <th>the_geom</th>\n",
       "      <th>objectid</th>\n",
       "      <th>crash_key</th>\n",
       "      <th>case_number_iowa_dot</th>\n",
       "      <th>law_enforcement_case_number</th>\n",
       "      <th>date_of_crash</th>\n",
       "      <th>month_of_crash</th>\n",
       "      <th>day_of_week</th>\n",
       "      <th>time_of_crash</th>\n",
       "      <th>dot_district</th>\n",
       "      <th>county_number</th>\n",
       "      <th>city_number</th>\n",
       "      <th>route_with_system</th>\n",
       "      <th>derived_literal_description</th>\n",
       "      <th>first_harmful_event</th>\n",
       "      <th>location_of_first_harmful_event</th>\n",
       "      <th>manner_of_crash_collision</th>\n",
       "      <th>major_cause</th>\n",
       "      <th>drug_or_alcohol_related</th>\n",
       "      <th>contributing_circumstances_environment</th>\n",
       "      <th>light_conditions</th>\n",
       "      <th>surface_conditions</th>\n",
       "      <th>weather_conditions</th>\n",
       "      <th>contributing_circumstances_roadway</th>\n",
       "      <th>type_of_roadway_junction_feature</th>\n",
       "      <th>paved_or_not</th>\n",
       "      <th>work_zone_related</th>\n",
       "      <th>crash_severity</th>\n",
       "      <th>number_of_fatalities</th>\n",
       "      <th>number_of_injuries</th>\n",
       "      <th>number_of_major_injuries</th>\n",
       "      <th>number_of_minor_injuries</th>\n",
       "      <th>number_of_possible_injuries</th>\n",
       "      <th>number_of_unknown_injuries</th>\n",
       "      <th>amount_of_property_damage</th>\n",
       "      <th>number_of_vehicles_involved</th>\n",
       "      <th>total_number_of_occupants</th>\n",
       "      <th>report_type</th>\n",
       "      <th>x_coordinate</th>\n",
       "      <th>y_coordinate</th>\n",
       "      <th>rest_service_last_updated</th>\n",
       "      <th>rest_service_utc_offset</th>\n",
       "      <th>crash_date_time_local</th>\n",
       "      <th>crash_date_time_utc</th>\n",
       "      <th>crash_date_time_utc_offset</th>\n",
       "      <th>city_name</th>\n",
       "      <th>county_name</th>\n",
       "      <th>direction</th>\n",
       "      <th>globalid</th>\n",
       "      <th>t_point</th>\n",
       "    </tr>\n",
       "  </thead>\n",
       "  <tbody>\n",
       "    <tr>\n",
       "      <th>0</th>\n",
       "      <td>-1</td>\n",
       "      <td>POINT (-10085665.820 5092061.160)</td>\n",
       "      <td>POINT (-90.60107756538 41.538254176651)</td>\n",
       "      <td>3099357</td>\n",
       "      <td>2013005342</td>\n",
       "      <td>2013726799</td>\n",
       "      <td>2013-11719</td>\n",
       "      <td>02/18/2013 12:00:00 AM +0000</td>\n",
       "      <td>2</td>\n",
       "      <td>2</td>\n",
       "      <td>20:33</td>\n",
       "      <td>6</td>\n",
       "      <td>82</td>\n",
       "      <td>None</td>\n",
       "      <td>None</td>\n",
       "      <td>W LOCUST ST &amp; HICKORY GROVE RD &amp; N DIVISION ST</td>\n",
       "      <td>33</td>\n",
       "      <td>1</td>\n",
       "      <td>6</td>\n",
       "      <td>71</td>\n",
       "      <td>8</td>\n",
       "      <td>2</td>\n",
       "      <td>4</td>\n",
       "      <td>3</td>\n",
       "      <td>7</td>\n",
       "      <td>2</td>\n",
       "      <td>1</td>\n",
       "      <td>1</td>\n",
       "      <td>None</td>\n",
       "      <td>5</td>\n",
       "      <td>0</td>\n",
       "      <td>0</td>\n",
       "      <td>0</td>\n",
       "      <td>0</td>\n",
       "      <td>0</td>\n",
       "      <td>0</td>\n",
       "      <td>3500</td>\n",
       "      <td>2</td>\n",
       "      <td>3</td>\n",
       "      <td>7</td>\n",
       "      <td>700110</td>\n",
       "      <td>4601290</td>\n",
       "      <td>10/19/2020 06:32:56 PM +0000</td>\n",
       "      <td>None</td>\n",
       "      <td>None</td>\n",
       "      <td>None</td>\n",
       "      <td>None</td>\n",
       "      <td>None</td>\n",
       "      <td>None</td>\n",
       "      <td>None</td>\n",
       "      <td>8f7d4562-1d44-4588-ae14-1cb55cc3824a</td>\n",
       "      <td>POINT(-10085665.819899984 5092061.160419996)</td>\n",
       "    </tr>\n",
       "    <tr>\n",
       "      <th>1</th>\n",
       "      <td>-1</td>\n",
       "      <td>POINT (-10470862.084 5049405.372)</td>\n",
       "      <td>POINT (-94.061354475179 41.250800584789)</td>\n",
       "      <td>3216291</td>\n",
       "      <td>2011028220</td>\n",
       "      <td>2011643133</td>\n",
       "      <td>067-11</td>\n",
       "      <td>08/13/2011 12:00:00 AM +0000</td>\n",
       "      <td>8</td>\n",
       "      <td>7</td>\n",
       "      <td>10:30</td>\n",
       "      <td>4</td>\n",
       "      <td>61</td>\n",
       "      <td>None</td>\n",
       "      <td>None</td>\n",
       "      <td>Co Rd G53/CARVER RD/275TH ST</td>\n",
       "      <td>33</td>\n",
       "      <td>1</td>\n",
       "      <td>5</td>\n",
       "      <td>3</td>\n",
       "      <td>8</td>\n",
       "      <td>1</td>\n",
       "      <td>1</td>\n",
       "      <td>1</td>\n",
       "      <td>1</td>\n",
       "      <td>1</td>\n",
       "      <td>13</td>\n",
       "      <td>2</td>\n",
       "      <td>None</td>\n",
       "      <td>5</td>\n",
       "      <td>0</td>\n",
       "      <td>0</td>\n",
       "      <td>0</td>\n",
       "      <td>0</td>\n",
       "      <td>0</td>\n",
       "      <td>0</td>\n",
       "      <td>9000</td>\n",
       "      <td>2</td>\n",
       "      <td>5</td>\n",
       "      <td>7</td>\n",
       "      <td>411077</td>\n",
       "      <td>4567142</td>\n",
       "      <td>10/19/2020 06:32:56 PM +0000</td>\n",
       "      <td>None</td>\n",
       "      <td>None</td>\n",
       "      <td>None</td>\n",
       "      <td>None</td>\n",
       "      <td>None</td>\n",
       "      <td>None</td>\n",
       "      <td>None</td>\n",
       "      <td>60da76c3-b3ad-47d9-b0c1-7d5d6b5925d3</td>\n",
       "      <td>POINT(-10470862.083502531 5049405.372157474)</td>\n",
       "    </tr>\n",
       "    <tr>\n",
       "      <th>2</th>\n",
       "      <td>-1</td>\n",
       "      <td>POINT (-10101207.693 5235757.016)</td>\n",
       "      <td>POINT (-90.740692583417 42.49723965409)</td>\n",
       "      <td>2738222</td>\n",
       "      <td>2010032300</td>\n",
       "      <td>2010585476</td>\n",
       "      <td>01-10-38623</td>\n",
       "      <td>08/12/2010 12:00:00 AM +0000</td>\n",
       "      <td>8</td>\n",
       "      <td>5</td>\n",
       "      <td>08:22</td>\n",
       "      <td>6</td>\n",
       "      <td>31</td>\n",
       "      <td>None</td>\n",
       "      <td>IA 32</td>\n",
       "      <td>IA 32/NORTHWEST ARTERIAL &amp; CHAVENELLE RD</td>\n",
       "      <td>33</td>\n",
       "      <td>1</td>\n",
       "      <td>3</td>\n",
       "      <td>45</td>\n",
       "      <td>8</td>\n",
       "      <td>1</td>\n",
       "      <td>1</td>\n",
       "      <td>1</td>\n",
       "      <td>1</td>\n",
       "      <td>1</td>\n",
       "      <td>1</td>\n",
       "      <td>1</td>\n",
       "      <td>None</td>\n",
       "      <td>5</td>\n",
       "      <td>0</td>\n",
       "      <td>0</td>\n",
       "      <td>0</td>\n",
       "      <td>0</td>\n",
       "      <td>0</td>\n",
       "      <td>0</td>\n",
       "      <td>3000</td>\n",
       "      <td>2</td>\n",
       "      <td>2</td>\n",
       "      <td>7</td>\n",
       "      <td>685651</td>\n",
       "      <td>4707460</td>\n",
       "      <td>10/19/2020 06:32:56 PM +0000</td>\n",
       "      <td>None</td>\n",
       "      <td>None</td>\n",
       "      <td>None</td>\n",
       "      <td>None</td>\n",
       "      <td>None</td>\n",
       "      <td>None</td>\n",
       "      <td>None</td>\n",
       "      <td>3602c497-ca5c-40f7-91c2-059f004ceedc</td>\n",
       "      <td>POINT(-10101207.692614956 5235757.016032574)</td>\n",
       "    </tr>\n",
       "    <tr>\n",
       "      <th>3</th>\n",
       "      <td>-1</td>\n",
       "      <td>POINT (-10416214.079 5199402.093)</td>\n",
       "      <td>POINT (-93.570443099794 42.255984161506)</td>\n",
       "      <td>4773740</td>\n",
       "      <td>20181027582</td>\n",
       "      <td>20181027582</td>\n",
       "      <td>2018001241</td>\n",
       "      <td>01/15/2018 12:00:00 AM +0000</td>\n",
       "      <td>1</td>\n",
       "      <td>2</td>\n",
       "      <td>21:22</td>\n",
       "      <td>1</td>\n",
       "      <td>40</td>\n",
       "      <td>None</td>\n",
       "      <td>I-35</td>\n",
       "      <td>I-35</td>\n",
       "      <td>52</td>\n",
       "      <td>3</td>\n",
       "      <td>1</td>\n",
       "      <td>44</td>\n",
       "      <td>8</td>\n",
       "      <td>2</td>\n",
       "      <td>5</td>\n",
       "      <td>3</td>\n",
       "      <td>8</td>\n",
       "      <td>2</td>\n",
       "      <td>1</td>\n",
       "      <td>1</td>\n",
       "      <td>None</td>\n",
       "      <td>5</td>\n",
       "      <td>0</td>\n",
       "      <td>0</td>\n",
       "      <td>0</td>\n",
       "      <td>0</td>\n",
       "      <td>0</td>\n",
       "      <td>0</td>\n",
       "      <td>9500</td>\n",
       "      <td>1</td>\n",
       "      <td>1</td>\n",
       "      <td>7</td>\n",
       "      <td>452947</td>\n",
       "      <td>4678356</td>\n",
       "      <td>10/19/2020 06:32:56 PM +0000</td>\n",
       "      <td>None</td>\n",
       "      <td>01/15/2018 09:22:00 PM +0000</td>\n",
       "      <td>None</td>\n",
       "      <td>None</td>\n",
       "      <td>None</td>\n",
       "      <td>HAMILTON</td>\n",
       "      <td>None</td>\n",
       "      <td>c2bfde52-2ad2-49ac-8264-29a98e19fd6d</td>\n",
       "      <td>POINT(-10416214.079170046 5199402.093080051)</td>\n",
       "    </tr>\n",
       "    <tr>\n",
       "      <th>4</th>\n",
       "      <td>-1</td>\n",
       "      <td>POINT (-10354972.305 5116020.544)</td>\n",
       "      <td>POINT (-93.0202988798 41.69915656632)</td>\n",
       "      <td>2734866</td>\n",
       "      <td>2009033087</td>\n",
       "      <td>2009522703</td>\n",
       "      <td>09-22550</td>\n",
       "      <td>08/22/2009 12:00:00 AM +0000</td>\n",
       "      <td>8</td>\n",
       "      <td>7</td>\n",
       "      <td>16:48</td>\n",
       "      <td>1</td>\n",
       "      <td>50</td>\n",
       "      <td>None</td>\n",
       "      <td>US 6</td>\n",
       "      <td>US 6/1ST AVE E</td>\n",
       "      <td>33</td>\n",
       "      <td>1</td>\n",
       "      <td>4</td>\n",
       "      <td>9</td>\n",
       "      <td>8</td>\n",
       "      <td>1</td>\n",
       "      <td>1</td>\n",
       "      <td>1</td>\n",
       "      <td>1</td>\n",
       "      <td>1</td>\n",
       "      <td>4</td>\n",
       "      <td>1</td>\n",
       "      <td>None</td>\n",
       "      <td>3</td>\n",
       "      <td>0</td>\n",
       "      <td>2</td>\n",
       "      <td>0</td>\n",
       "      <td>2</td>\n",
       "      <td>0</td>\n",
       "      <td>0</td>\n",
       "      <td>7100</td>\n",
       "      <td>2</td>\n",
       "      <td>3</td>\n",
       "      <td>7</td>\n",
       "      <td>498311</td>\n",
       "      <td>4616375</td>\n",
       "      <td>10/19/2020 06:32:56 PM +0000</td>\n",
       "      <td>None</td>\n",
       "      <td>None</td>\n",
       "      <td>None</td>\n",
       "      <td>None</td>\n",
       "      <td>None</td>\n",
       "      <td>None</td>\n",
       "      <td>None</td>\n",
       "      <td>a0484da8-84eb-4bb3-ac79-ed57ca16f507</td>\n",
       "      <td>POINT(-10354972.30473745 5116020.544234964)</td>\n",
       "    </tr>\n",
       "  </tbody>\n",
       "</table>\n",
       "</div>"
      ],
      "text/plain": [
       "   node_id                              point  \\\n",
       "0       -1  POINT (-10085665.820 5092061.160)   \n",
       "1       -1  POINT (-10470862.084 5049405.372)   \n",
       "2       -1  POINT (-10101207.693 5235757.016)   \n",
       "3       -1  POINT (-10416214.079 5199402.093)   \n",
       "4       -1  POINT (-10354972.305 5116020.544)   \n",
       "\n",
       "                                   the_geom  objectid    crash_key  \\\n",
       "0   POINT (-90.60107756538 41.538254176651)   3099357   2013005342   \n",
       "1  POINT (-94.061354475179 41.250800584789)   3216291   2011028220   \n",
       "2   POINT (-90.740692583417 42.49723965409)   2738222   2010032300   \n",
       "3  POINT (-93.570443099794 42.255984161506)   4773740  20181027582   \n",
       "4     POINT (-93.0202988798 41.69915656632)   2734866   2009033087   \n",
       "\n",
       "  case_number_iowa_dot law_enforcement_case_number  \\\n",
       "0           2013726799                  2013-11719   \n",
       "1           2011643133                      067-11   \n",
       "2           2010585476                 01-10-38623   \n",
       "3          20181027582                  2018001241   \n",
       "4           2009522703                    09-22550   \n",
       "\n",
       "                  date_of_crash month_of_crash day_of_week time_of_crash  \\\n",
       "0  02/18/2013 12:00:00 AM +0000              2           2         20:33   \n",
       "1  08/13/2011 12:00:00 AM +0000              8           7         10:30   \n",
       "2  08/12/2010 12:00:00 AM +0000              8           5         08:22   \n",
       "3  01/15/2018 12:00:00 AM +0000              1           2         21:22   \n",
       "4  08/22/2009 12:00:00 AM +0000              8           7         16:48   \n",
       "\n",
       "  dot_district county_number city_number route_with_system  \\\n",
       "0            6            82        None              None   \n",
       "1            4            61        None              None   \n",
       "2            6            31        None             IA 32   \n",
       "3            1            40        None              I-35   \n",
       "4            1            50        None              US 6   \n",
       "\n",
       "                      derived_literal_description first_harmful_event  \\\n",
       "0  W LOCUST ST & HICKORY GROVE RD & N DIVISION ST                  33   \n",
       "1                    Co Rd G53/CARVER RD/275TH ST                  33   \n",
       "2        IA 32/NORTHWEST ARTERIAL & CHAVENELLE RD                  33   \n",
       "3                                            I-35                  52   \n",
       "4                                  US 6/1ST AVE E                  33   \n",
       "\n",
       "  location_of_first_harmful_event manner_of_crash_collision major_cause  \\\n",
       "0                               1                         6          71   \n",
       "1                               1                         5           3   \n",
       "2                               1                         3          45   \n",
       "3                               3                         1          44   \n",
       "4                               1                         4           9   \n",
       "\n",
       "  drug_or_alcohol_related contributing_circumstances_environment  \\\n",
       "0                       8                                      2   \n",
       "1                       8                                      1   \n",
       "2                       8                                      1   \n",
       "3                       8                                      2   \n",
       "4                       8                                      1   \n",
       "\n",
       "  light_conditions surface_conditions weather_conditions  \\\n",
       "0                4                  3                  7   \n",
       "1                1                  1                  1   \n",
       "2                1                  1                  1   \n",
       "3                5                  3                  8   \n",
       "4                1                  1                  1   \n",
       "\n",
       "  contributing_circumstances_roadway type_of_roadway_junction_feature  \\\n",
       "0                                  2                                1   \n",
       "1                                  1                               13   \n",
       "2                                  1                                1   \n",
       "3                                  2                                1   \n",
       "4                                  1                                4   \n",
       "\n",
       "  paved_or_not work_zone_related crash_severity number_of_fatalities  \\\n",
       "0            1              None              5                    0   \n",
       "1            2              None              5                    0   \n",
       "2            1              None              5                    0   \n",
       "3            1              None              5                    0   \n",
       "4            1              None              3                    0   \n",
       "\n",
       "  number_of_injuries number_of_major_injuries number_of_minor_injuries  \\\n",
       "0                  0                        0                        0   \n",
       "1                  0                        0                        0   \n",
       "2                  0                        0                        0   \n",
       "3                  0                        0                        0   \n",
       "4                  2                        0                        2   \n",
       "\n",
       "  number_of_possible_injuries number_of_unknown_injuries  \\\n",
       "0                           0                          0   \n",
       "1                           0                          0   \n",
       "2                           0                          0   \n",
       "3                           0                          0   \n",
       "4                           0                          0   \n",
       "\n",
       "  amount_of_property_damage number_of_vehicles_involved  \\\n",
       "0                      3500                           2   \n",
       "1                      9000                           2   \n",
       "2                      3000                           2   \n",
       "3                      9500                           1   \n",
       "4                      7100                           2   \n",
       "\n",
       "  total_number_of_occupants report_type x_coordinate y_coordinate  \\\n",
       "0                         3           7       700110      4601290   \n",
       "1                         5           7       411077      4567142   \n",
       "2                         2           7       685651      4707460   \n",
       "3                         1           7       452947      4678356   \n",
       "4                         3           7       498311      4616375   \n",
       "\n",
       "      rest_service_last_updated rest_service_utc_offset  \\\n",
       "0  10/19/2020 06:32:56 PM +0000                    None   \n",
       "1  10/19/2020 06:32:56 PM +0000                    None   \n",
       "2  10/19/2020 06:32:56 PM +0000                    None   \n",
       "3  10/19/2020 06:32:56 PM +0000                    None   \n",
       "4  10/19/2020 06:32:56 PM +0000                    None   \n",
       "\n",
       "          crash_date_time_local crash_date_time_utc  \\\n",
       "0                          None                None   \n",
       "1                          None                None   \n",
       "2                          None                None   \n",
       "3  01/15/2018 09:22:00 PM +0000                None   \n",
       "4                          None                None   \n",
       "\n",
       "  crash_date_time_utc_offset city_name county_name direction  \\\n",
       "0                       None      None        None      None   \n",
       "1                       None      None        None      None   \n",
       "2                       None      None        None      None   \n",
       "3                       None      None    HAMILTON      None   \n",
       "4                       None      None        None      None   \n",
       "\n",
       "                               globalid  \\\n",
       "0  8f7d4562-1d44-4588-ae14-1cb55cc3824a   \n",
       "1  60da76c3-b3ad-47d9-b0c1-7d5d6b5925d3   \n",
       "2  3602c497-ca5c-40f7-91c2-059f004ceedc   \n",
       "3  c2bfde52-2ad2-49ac-8264-29a98e19fd6d   \n",
       "4  a0484da8-84eb-4bb3-ac79-ed57ca16f507   \n",
       "\n",
       "                                        t_point  \n",
       "0  POINT(-10085665.819899984 5092061.160419996)  \n",
       "1  POINT(-10470862.083502531 5049405.372157474)  \n",
       "2  POINT(-10101207.692614956 5235757.016032574)  \n",
       "3  POINT(-10416214.079170046 5199402.093080051)  \n",
       "4   POINT(-10354972.30473745 5116020.544234964)  "
      ]
     },
     "execution_count": 36,
     "metadata": {},
     "output_type": "execute_result"
    }
   ],
   "source": [
    "df_crashes.head()"
   ]
  },
  {
   "cell_type": "markdown",
   "id": "74770cc0",
   "metadata": {},
   "source": [
    "# Format datatypes and define exposure window\n",
    "The idea is that the crash data is collected from various sources. By looking at the data it seems there are fairly uniform collections from 2009-2020. So the strategy is going to use this time frame as our exposure time (time we are recording data in Iowa), and assume all intersection crashes are accurately recorded during this time. "
   ]
  },
  {
   "cell_type": "code",
   "execution_count": 37,
   "id": "4be1e1fa",
   "metadata": {},
   "outputs": [],
   "source": [
    "# print([x for x in df_crashes.columns])\n",
    "\n",
    "new_dtypes = {\"crash_severity\": int,\n",
    "#               \"majorinjuries_driver\": int,\n",
    "#               \"majorinjuries_pedestrian\": int,\n",
    "#               \"majorinjuriespassenger\": int,\n",
    "#               \"fatal_driver\": int,\n",
    "#               \"fatal_pedestrian\": int,\n",
    "#               \"fatalpassenger\": int,\n",
    "#               \"fatal_bicyclist\": int,\n",
    "#               \"num_legs\": int\n",
    "             }\n",
    "df_crashes = df_crashes.astype(new_dtypes)\n",
    "# dataframe = dataframe.astype(new_dtypes)\n",
    "\n",
    "\n",
    "df_crashes['reportdate'] =  pd.to_datetime(df_crashes['date_of_crash'])"
   ]
  },
  {
   "cell_type": "code",
   "execution_count": 38,
   "id": "e21504d7",
   "metadata": {},
   "outputs": [
    {
     "data": {
      "image/png": "[encoded data removed]",
      "text/plain": [
       "<Figure size 432x288 with 1 Axes>"
      ]
     },
     "metadata": {
      "needs_background": "light"
     },
     "output_type": "display_data"
    }
   ],
   "source": [
    "df_crashes['reportdate'].hist(bins=150)\n",
    "plt.yscale('log')\n",
    "plt.show()"
   ]
  },
  {
   "cell_type": "code",
   "execution_count": 39,
   "id": "2a56c9a1",
   "metadata": {},
   "outputs": [
    {
     "data": {
      "image/png": "[encoded data removed]",
      "text/plain": [
       "<Figure size 432x288 with 1 Axes>"
      ]
     },
     "metadata": {
      "needs_background": "light"
     },
     "output_type": "display_data"
    },
    {
     "name": "stdout",
     "output_type": "stream",
     "text": [
      "2009-01-02 00:00:00+00:00\n",
      "2019-12-31 00:00:00+00:00\n",
      "4015 days 00:00:00\n",
      "We will normalize the crashes to an exposure time of 11 +- 0.5 years\n"
     ]
    },
    {
     "data": {
      "text/plain": [
       "<AxesSubplot:>"
      ]
     },
     "execution_count": 39,
     "metadata": {},
     "output_type": "execute_result"
    },
    {
     "data": {
      "image/png": "[encoded data removed]",
      "text/plain": [
       "<Figure size 432x288 with 1 Axes>"
      ]
     },
     "metadata": {
      "needs_background": "light"
     },
     "output_type": "display_data"
    }
   ],
   "source": [
    "df_crashes['reportdate'].hist(bins=150)\n",
    "plt.yscale('log')\n",
    "plt.show()\n",
    "print(df_crashes[(df_crashes['reportdate'] > \"2009\") &(df_crashes['reportdate'] < \"2020\") ]['reportdate'].min())\n",
    "print(df_crashes[(df_crashes['reportdate'] > \"2009\") &(df_crashes['reportdate'] < \"2020\") ]['reportdate'].max())\n",
    "print((df_crashes[(df_crashes['reportdate'] > \"2009\") &(df_crashes['reportdate'] < \"2020\") ]['reportdate'].max())-\\\n",
    "      (df_crashes[(df_crashes['reportdate'] > \"2009\") &(df_crashes['reportdate'] < \"2020\") ]['reportdate'].min()))\n",
    "print(\"We will normalize the crashes to an exposure time of 11 +- 0.5 years\")\n",
    "\n",
    "df_crashes[(df_crashes['reportdate'] > \"2009\") &(df_crashes['reportdate'] < \"2022\") ]['reportdate'].hist(bins=150)\n",
    "# plt.yscale('log')"
   ]
  },
  {
   "cell_type": "code",
   "execution_count": 40,
   "id": "c8308a5a",
   "metadata": {},
   "outputs": [],
   "source": [
    "exposure_time = 11\n",
    "exposure_time_up = 11.5\n",
    "exposure_time_down = 10.5\n",
    "df_crashes = df_crashes[(df_crashes['reportdate'] > \"2009\") &(df_crashes['reportdate'] < \"2020\") ]\n",
    "# severe_columns = [x for x in df_crashes.columns if \"FATAL\" in x.upper() or \"MAJOR\" in x.upper()]\n",
    "# df_crashes_severe = df_crashes[ pd.DataFrame.any(df_crashes[severe_columns].astype(int) > 0,axis=1) ]"
   ]
  },
  {
   "cell_type": "markdown",
   "id": "e07c1ae0",
   "metadata": {},
   "source": [
    "# Major calculation section of the notebook - associating crashes to intersections\n",
    "Loop over intersections and calculate the crash rates for all, severe, and fatal crashes per intersection."
   ]
  },
  {
   "cell_type": "code",
   "execution_count": 41,
   "id": "f9246575",
   "metadata": {},
   "outputs": [
    {
     "data": {
      "text/html": [
       "<div>\n",
       "<style scoped>\n",
       "    .dataframe tbody tr th:only-of-type {\n",
       "        vertical-align: middle;\n",
       "    }\n",
       "\n",
       "    .dataframe tbody tr th {\n",
       "        vertical-align: top;\n",
       "    }\n",
       "\n",
       "    .dataframe thead th {\n",
       "        text-align: right;\n",
       "    }\n",
       "</style>\n",
       "<table border=\"1\" class=\"dataframe\">\n",
       "  <thead>\n",
       "    <tr style=\"text-align: right;\">\n",
       "      <th></th>\n",
       "      <th>node_id</th>\n",
       "      <th>point3857</th>\n",
       "      <th>lat</th>\n",
       "      <th>long</th>\n",
       "      <th>legs</th>\n",
       "      <th>way_lines</th>\n",
       "      <th>ramp_roads</th>\n",
       "      <th>bikepaths</th>\n",
       "      <th>footways</th>\n",
       "      <th>oneways</th>\n",
       "      <th>maxspeed</th>\n",
       "      <th>minspeed</th>\n",
       "      <th>surface_types</th>\n",
       "      <th>aadt</th>\n",
       "      <th>min_angle</th>\n",
       "      <th>second_min_angle</th>\n",
       "      <th>junction_geometry_type_id</th>\n",
       "      <th>junction_type_id</th>\n",
       "      <th>num_lanes</th>\n",
       "      <th>highway_type</th>\n",
       "    </tr>\n",
       "  </thead>\n",
       "  <tbody>\n",
       "    <tr>\n",
       "      <th>0</th>\n",
       "      <td>30958903</td>\n",
       "      <td>POINT (-10196565.473 5124005.548)</td>\n",
       "      <td>41.752692</td>\n",
       "      <td>-91.597306</td>\n",
       "      <td>3</td>\n",
       "      <td>0105000020110F000003000000010200000002000000A1...</td>\n",
       "      <td>0</td>\n",
       "      <td>0</td>\n",
       "      <td>0</td>\n",
       "      <td>0</td>\n",
       "      <td>None</td>\n",
       "      <td>None</td>\n",
       "      <td>None</td>\n",
       "      <td>50.0</td>\n",
       "      <td>112.200548</td>\n",
       "      <td>120.623423</td>\n",
       "      <td>2.0</td>\n",
       "      <td>1</td>\n",
       "      <td>NaN</td>\n",
       "      <td>residential</td>\n",
       "    </tr>\n",
       "    <tr>\n",
       "      <th>1</th>\n",
       "      <td>30993358</td>\n",
       "      <td>POINT (-10391248.056 5327062.849)</td>\n",
       "      <td>43.099066</td>\n",
       "      <td>-93.346170</td>\n",
       "      <td>3</td>\n",
       "      <td>0105000020110F0000030000000102000000020000004A...</td>\n",
       "      <td>3</td>\n",
       "      <td>0</td>\n",
       "      <td>0</td>\n",
       "      <td>3</td>\n",
       "      <td>None</td>\n",
       "      <td>None</td>\n",
       "      <td>None</td>\n",
       "      <td>NaN</td>\n",
       "      <td>6.113267</td>\n",
       "      <td>173.601357</td>\n",
       "      <td>NaN</td>\n",
       "      <td>2</td>\n",
       "      <td>2.0</td>\n",
       "      <td>motorway_link</td>\n",
       "    </tr>\n",
       "    <tr>\n",
       "      <th>2</th>\n",
       "      <td>30993364</td>\n",
       "      <td>POINT (-10391112.202 5327066.004)</td>\n",
       "      <td>43.099086</td>\n",
       "      <td>-93.344949</td>\n",
       "      <td>3</td>\n",
       "      <td>0105000020110F00000300000001020000000200000092...</td>\n",
       "      <td>0</td>\n",
       "      <td>0</td>\n",
       "      <td>0</td>\n",
       "      <td>0</td>\n",
       "      <td>70 mph</td>\n",
       "      <td>70 mph</td>\n",
       "      <td>None</td>\n",
       "      <td>NaN</td>\n",
       "      <td>5.056392</td>\n",
       "      <td>177.168803</td>\n",
       "      <td>2.0</td>\n",
       "      <td>1</td>\n",
       "      <td>2.0</td>\n",
       "      <td>motorway</td>\n",
       "    </tr>\n",
       "  </tbody>\n",
       "</table>\n",
       "</div>"
      ],
      "text/plain": [
       "    node_id                          point3857        lat       long  legs  \\\n",
       "0  30958903  POINT (-10196565.473 5124005.548)  41.752692 -91.597306     3   \n",
       "1  30993358  POINT (-10391248.056 5327062.849)  43.099066 -93.346170     3   \n",
       "2  30993364  POINT (-10391112.202 5327066.004)  43.099086 -93.344949     3   \n",
       "\n",
       "                                           way_lines  ramp_roads  bikepaths  \\\n",
       "0  0105000020110F000003000000010200000002000000A1...           0          0   \n",
       "1  0105000020110F0000030000000102000000020000004A...           3          0   \n",
       "2  0105000020110F00000300000001020000000200000092...           0          0   \n",
       "\n",
       "   footways  oneways maxspeed minspeed surface_types  aadt   min_angle  \\\n",
       "0         0        0     None     None          None  50.0  112.200548   \n",
       "1         0        3     None     None          None   NaN    6.113267   \n",
       "2         0        0   70 mph   70 mph          None   NaN    5.056392   \n",
       "\n",
       "   second_min_angle  junction_geometry_type_id  junction_type_id  num_lanes  \\\n",
       "0        120.623423                        2.0                 1        NaN   \n",
       "1        173.601357                        NaN                 2        2.0   \n",
       "2        177.168803                        2.0                 1        2.0   \n",
       "\n",
       "    highway_type  \n",
       "0    residential  \n",
       "1  motorway_link  \n",
       "2       motorway  "
      ]
     },
     "execution_count": 41,
     "metadata": {},
     "output_type": "execute_result"
    }
   ],
   "source": [
    "df.head(3)"
   ]
  },
  {
   "cell_type": "code",
   "execution_count": 42,
   "id": "966575bb",
   "metadata": {},
   "outputs": [],
   "source": [
    "# temp\n",
    "# number_of_fatalities number_of_injuries number_of_major_injuries number_of_minor_injuries"
   ]
  },
  {
   "cell_type": "code",
   "execution_count": 89,
   "id": "aa7d0f67",
   "metadata": {},
   "outputs": [
    {
     "name": "stderr",
     "output_type": "stream",
     "text": [
      "/Users/dylan.frizzell/dot/database_building/.venv/lib/python3.9/site-packages/IPython/core/interactiveshell.py:3338: FutureWarning: The `op` parameter is deprecated and will be removed in a future release. Please use the `predicate` parameter instead.\n",
      "  if await self.run_code(code, result, async_=asy):\n"
     ]
    }
   ],
   "source": [
    "# temp = df\n",
    "temp_crashes = df_crashes.copy()\n",
    "temp_crashes.geometry = df_crashes.geometry.buffer(15)\n",
    "full = gpd.sjoin(df,temp_crashes,op='within')\n",
    "\n",
    "major_crashes_lookup = full[['node_id_left','crash_severity']]\\\n",
    "[(full['number_of_vehicles_involved'].apply(int)>=2) & (full['crash_severity']>3)].groupby('node_id_left').count()/11#years\n",
    "\n",
    "minor_crashes_lookup = full[['node_id_left','crash_severity']]\\\n",
    "[(full['number_of_vehicles_involved'].apply(int)>=2) & (full['crash_severity']<4)].groupby('node_id_left').count()/11#years\n",
    "\n"
   ]
  },
  {
   "cell_type": "markdown",
   "id": "e5c5544b",
   "metadata": {},
   "source": [
    "#### Clean up the lookup tables"
   ]
  },
  {
   "cell_type": "code",
   "execution_count": 90,
   "id": "46b5e66c",
   "metadata": {},
   "outputs": [],
   "source": [
    "df.index = df.node_id\n",
    "minor_crashes_lookup.index.rename('node_id',inplace=True)\n",
    "minor_crashes_lookup.rename(columns={'crash_severity':\"minor_crashes\"},inplace=True)\n",
    "major_crashes_lookup.index.rename('node_id',inplace=True)\n",
    "major_crashes_lookup.rename(columns={'crash_severity':\"major_crashes\"},inplace=True)"
   ]
  },
  {
   "cell_type": "code",
   "execution_count": 91,
   "id": "cc973012",
   "metadata": {},
   "outputs": [],
   "source": [
    "final = df.join(minor_crashes_lookup).join(major_crashes_lookup)\n",
    "# minor_crashes_lookup.loc[30993407]"
   ]
  },
  {
   "cell_type": "markdown",
   "id": "34e6f841",
   "metadata": {},
   "source": [
    "### Count number of nearby intersections"
   ]
  },
  {
   "cell_type": "code",
   "execution_count": 92,
   "id": "57aca279",
   "metadata": {},
   "outputs": [],
   "source": [
    "temp_final = final.copy()\n",
    "temp_final.geometry = temp_final.geometry.buffer(50)\n"
   ]
  },
  {
   "cell_type": "code",
   "execution_count": 93,
   "id": "4ca24143",
   "metadata": {},
   "outputs": [],
   "source": [
    "# temp_final"
   ]
  },
  {
   "cell_type": "code",
   "execution_count": 94,
   "id": "4c035a06",
   "metadata": {},
   "outputs": [
    {
     "name": "stderr",
     "output_type": "stream",
     "text": [
      "/Users/dylan.frizzell/dot/database_building/.venv/lib/python3.9/site-packages/IPython/core/interactiveshell.py:3338: FutureWarning: The `op` parameter is deprecated and will be removed in a future release. Please use the `predicate` parameter instead.\n",
      "  if await self.run_code(code, result, async_=asy):\n"
     ]
    }
   ],
   "source": [
    "final_self_join = gpd.sjoin(final,temp_final,op=\"within\")"
   ]
  },
  {
   "cell_type": "code",
   "execution_count": 95,
   "id": "042bb3c1",
   "metadata": {},
   "outputs": [],
   "source": [
    "average_aadt_lookup = final_self_join[['node_id_left','aadt_right']].groupby('node_id_left').mean()\n",
    "node_density_lookup = final_self_join[['node_id_left','aadt_right']].groupby('node_id_left').count()\n"
   ]
  },
  {
   "cell_type": "code",
   "execution_count": 96,
   "id": "7b143f65",
   "metadata": {},
   "outputs": [],
   "source": [
    "average_aadt_lookup.rename(columns={'node_id_left':'node_id',\n",
    "                                    'aadt_right':'aadt_mean'},inplace=True)\n",
    "node_density_lookup.rename(columns={'node_id_left':'node_id',\n",
    "                                    'aadt_right':'node_density'},inplace=True)"
   ]
  },
  {
   "cell_type": "code",
   "execution_count": 97,
   "id": "cc03d610",
   "metadata": {},
   "outputs": [],
   "source": [
    "final = final.join(average_aadt_lookup).join(node_density_lookup)"
   ]
  },
  {
   "cell_type": "code",
   "execution_count": 98,
   "id": "2e508ae8",
   "metadata": {},
   "outputs": [],
   "source": [
    "final[\"maxspeed\"] = final['maxspeed'].apply(lambda x : str(x).replace(\"mph\",\"\").replace(\" mph\",\"\").replace('35, 25 When Lights Flash','35').replace('15, 30','30') if x else np.nan).apply(lambda x: x if x != \"24.14\" else np.nan).astype(float)\n",
    "final[\"minspeed\"] = final['minspeed'].apply(lambda x : str(x).replace(\"mph\",\"\").replace(\" mph\",\"\").replace('35, 25 When Lights Flash','35').replace('15, 30','30') if x else np.nan).apply(lambda x: x if x != \"24.14\" else np.nan).astype(float)\n",
    "\n"
   ]
  },
  {
   "cell_type": "code",
   "execution_count": 99,
   "id": "e6d6a02c",
   "metadata": {},
   "outputs": [],
   "source": [
    "def surface_mapper(x):\n",
    "    if x == 'nan':\n",
    "        return np.nan\n",
    "    else:\n",
    "        return x.replace(\"[\",\"\").replace(\"]\",\"\").split(',')[0].replace(\"'\",\"\")\n",
    "\n",
    "final['min_angle'] = final['min_angle'].apply(float)\n",
    "final['second_min_angle'] = final['second_min_angle'].apply(float)\n",
    "final['second_min_angle'] = final['second_min_angle'].apply(float)\n",
    "final['surface_types'] = final['surface_types'].apply(str).apply(surface_mapper)"
   ]
  },
  {
   "cell_type": "code",
   "execution_count": 100,
   "id": "54a0c6fe",
   "metadata": {},
   "outputs": [],
   "source": [
    "final['major_crashes'] = final.major_crashes.fillna(0)\n",
    "final['minor_crashes'] = final.minor_crashes.fillna(0)"
   ]
  },
  {
   "cell_type": "code",
   "execution_count": 123,
   "id": "c294003d",
   "metadata": {},
   "outputs": [],
   "source": [
    "# df_int.head(50)\n",
    "final.to_csv('iowa_df_before_modeling.csv')"
   ]
  },
  {
   "cell_type": "code",
   "execution_count": 101,
   "id": "99a6bdf2",
   "metadata": {},
   "outputs": [],
   "source": [
    "# final.head()\n",
    "# final = pd.read_csv('iowa_df_before_modeling.csv',index_col='node_id')\n",
    "# del final['node_id.1']"
   ]
  },
  {
   "cell_type": "code",
   "execution_count": 130,
   "id": "6d5fecfc",
   "metadata": {},
   "outputs": [],
   "source": [
    "target_var = \"major_crashes\"# \"major_crashes\"\n",
    "\n",
    "X = final[[\n",
    "        'legs',\n",
    "       'ramp_roads',\n",
    "       'oneways',\n",
    "       'maxspeed',\n",
    "       'minspeed',\n",
    "       'surface_types',\n",
    "       'aadt',\n",
    "       'min_angle',\n",
    "       'second_min_angle',\n",
    "       'junction_geometry_type_id',\n",
    "       'junction_type_id',\n",
    "       'num_lanes',\n",
    "       'highway_type',\n",
    "       'aadt_mean',\n",
    "       'node_density',\n",
    "#        'minor_crashes',\n",
    "#        'major_crashes'\n",
    "      ]].copy()\n",
    "\n",
    "# X = X[~X.aadt.isna().values]\n",
    "# For some fields if there are blank entries we will take the most common as grouped by highway type\n",
    "\n",
    "lookup_X = X.groupby('highway_type').mean()\n",
    "\n",
    "# for i,row in X.iterrows():\n",
    "#     if np.isnan(row['maxspeed']) and str(row['highway_type'])!='nan':\n",
    "# #         print(\"blah\")\n",
    "# #         row['aadt'] = X[X.highway_type == row['highway_type']]['aadt'].mean()\n",
    "# #         row['aadt_mean'] = X[X.highway_type == row['highway_type']]['aadt_mean'].mean()\n",
    "#         row['maxspeed'] = lookup_X.loc[row['highway_type']]['maxspeed']\n",
    "#         row['minspeed'] = lookup_X.loc[row['highway_type']]['minspeed']\n",
    "#     if np.isnan(row['aadt']):\n",
    "# #         print(\"blah\")\n",
    "# #         row['aadt'] = X[X.highway_type == row['highway_type']]['aadt'].mean()\n",
    "# #         row['aadt_mean'] = X[X.highway_type == row['highway_type']]['aadt_mean'].mean()\n",
    "#         row['aadt'] = lookup_X.loc[row['highway_type']]['aadt']\n",
    "# #         row['minspeed'] = lookup_X.loc[row['highway_type']]['minspeed']\n",
    "# #         row['surface_types'] = X[X.highway_type == row['highway_type']]['surface_types'].mode()\n",
    "\n",
    "\n",
    "y = final[[target_var,\n",
    "      ]] \n",
    "\n",
    "y = y.loc[X.index.values]"
   ]
  },
  {
   "cell_type": "code",
   "execution_count": 131,
   "id": "f61944e2",
   "metadata": {},
   "outputs": [
    {
     "name": "stdout",
     "output_type": "stream",
     "text": [
      "95% CL +/- using Poisson distribution major_crashes    0.628217\n",
      "dtype: float64\n"
     ]
    },
    {
     "name": "stderr",
     "output_type": "stream",
     "text": [
      "/Users/dylan.frizzell/dot/database_building/.venv/lib/python3.9/site-packages/numpy/core/fromnumeric.py:3472: FutureWarning: In a future version, DataFrame.mean(axis=None) will return a scalar mean over the entire DataFrame. To retain the old behavior, use 'frame.mean(axis=0)' or just 'frame.mean()'\n",
      "  return mean(axis=axis, dtype=dtype, out=out, **kwargs)\n"
     ]
    }
   ],
   "source": [
    "print(\"95% CL +/- using Poisson distribution \" + str(np.sqrt( np.mean((y - y.mean())**2 ))*2))"
   ]
  },
  {
   "cell_type": "code",
   "execution_count": 132,
   "id": "c1b36cd3",
   "metadata": {},
   "outputs": [],
   "source": [
    "from sklearn.compose import ColumnTransformer\n",
    "from sklearn.datasets import fetch_openml\n",
    "from sklearn.pipeline import Pipeline\n",
    "from sklearn.impute import SimpleImputer\n",
    "from sklearn.preprocessing import StandardScaler, OneHotEncoder\n",
    "from sklearn.linear_model import LogisticRegression\n",
    "from sklearn.model_selection import train_test_split, GridSearchCV\n",
    "from sklearn.neural_network import MLPRegressor\n",
    "from sklearn.metrics import explained_variance_score\n"
   ]
  },
  {
   "cell_type": "code",
   "execution_count": null,
   "id": "a1a23935",
   "metadata": {},
   "outputs": [],
   "source": []
  },
  {
   "cell_type": "code",
   "execution_count": 133,
   "id": "1a99d935",
   "metadata": {},
   "outputs": [
    {
     "name": "stdout",
     "output_type": "stream",
     "text": [
      "Explained variance: 0.377\n"
     ]
    }
   ],
   "source": [
    "\n",
    "numeric_features = [\n",
    "                    \"oneways\",\n",
    "                    \"maxspeed\",\n",
    "                    \"minspeed\",\n",
    "                    \"min_angle\",\n",
    "                    \"second_min_angle\",\n",
    "                    \"num_lanes\",\n",
    "                    \"aadt\",\n",
    "                    'aadt_mean',\n",
    "                    'node_density',\n",
    "                   ]\n",
    "numeric_transformer = Pipeline(\n",
    "    steps=[\n",
    "           (\"imputer\", SimpleImputer(strategy=\"median\")),\n",
    "#            ('poly',PolynomialFeatures()),\n",
    "           (\"scaler\", StandardScaler()) , ]\n",
    ")\n",
    "\n",
    "categorical_features = [\n",
    "        'legs',\n",
    "       'ramp_roads',\n",
    "       'surface_types',\n",
    "       'junction_geometry_type_id',\n",
    "        'junction_type_id',\n",
    "       'highway_type',\n",
    "      ]\n",
    "categorical_transformer = OneHotEncoder(handle_unknown=\"ignore\")\n",
    "\n",
    "preprocessor = ColumnTransformer(\n",
    "    transformers=[\n",
    "                (\"num\", numeric_transformer, numeric_features),\n",
    "        (\"cat\", categorical_transformer, categorical_features),\n",
    "    ]\n",
    ")\n",
    "\n",
    "lr = [0.00001]\n",
    "depth = [25,]\n",
    "nodes = [50,]\n",
    "\n",
    "experiments = []\n",
    "for l in lr:\n",
    "    for d in depth:\n",
    "        for n in nodes:\n",
    "\n",
    "            clf = Pipeline(\n",
    "                steps=[(\"preprocessor\", preprocessor),\n",
    "                       (\"model\", \n",
    "                                MLPRegressor((n)*d,\n",
    "                                                learning_rate_init=l,\n",
    "#                                                  alpha=0.0001,\n",
    "                                                random_state=1,\n",
    "                                             early_stopping=True,\n",
    "                                                max_iter=500)\n",
    "                       )]\n",
    "            )\n",
    "\n",
    "            X_train, X_test, y_train, y_test = train_test_split(X, y, test_size=0.2, random_state=0)\n",
    "            clf.fit(X_train, np.ravel(y_train))\n",
    "            score = clf.score(X_test, y_test)\n",
    "            print(\"Explained variance: %.3f\" % score)\n",
    "#             explained_variance_score(y_test[target_var].values,clf.predict(X_test))\n",
    "            \n",
    "            experiments.append({'depth':d,\n",
    "                                'learning rate': l,\n",
    "                                'nodes': n,\n",
    "                                'score': score})\n",
    "# numeric_features = [\n",
    "#                     \"oneways\",\n",
    "#                     \"maxspeed\",\n",
    "#                     \"minspeed\",\n",
    "#                     \"min_angle\",\n",
    "#                     \"second_min_angle\",\n",
    "#                     \"num_lanes\",\n",
    "#                     \"aadt\",\n",
    "#                     'aadt_mean',\n",
    "#                     'node_density',\n",
    "#                    ]\n",
    "# numeric_transformer = Pipeline(\n",
    "#     steps=[(\"imputer\", SimpleImputer(strategy=\"median\")), (\"scaler\", StandardScaler()) , ]\n",
    "# )\n",
    "\n",
    "# categorical_features = [\n",
    "#         'legs',\n",
    "#        'ramp_roads',\n",
    "#        'surface_types',\n",
    "#        'junction_geometry_type_id',\n",
    "#         'junction_type_id',\n",
    "#        'highway_type',\n",
    "#       ]\n",
    "# categorical_transformer = OneHotEncoder(handle_unknown=\"ignore\")\n",
    "\n",
    "# preprocessor = ColumnTransformer(\n",
    "#     transformers=[\n",
    "#                 (\"num\", numeric_transformer, numeric_features),\n",
    "#         (\"cat\", categorical_transformer, categorical_features),\n",
    "#     ]\n",
    "# )\n",
    "\n",
    "# model = xgb.XGBRegressor(n_estimators=500,\n",
    "#                          max_depth=5,\n",
    "#                          reg_alpha=0.1,\n",
    "#                          subsample=0.8\n",
    "#                         )\n",
    "\n",
    "# clf = Pipeline(\n",
    "#     steps=[(\"preprocessor\", preprocessor),\n",
    "#            (\"model\", MLPRegressor((50,50,50,50),\n",
    "#                                     learning_rate_init=0.001,\n",
    "#                                     random_state=1,\n",
    "#                                     max_iter=100))]\n",
    "# )\n",
    "\n",
    "# X_train, X_test, y_train, y_test = train_test_split(X, y, test_size=0.1, random_state=0)\n",
    "\n",
    "# clf.fit(X_train, y_train)\n",
    "# print(\"model score: %.3f\" % clf.score(X_test, y_test))"
   ]
  },
  {
   "cell_type": "markdown",
   "id": "8b78d80e",
   "metadata": {},
   "source": [
    "### The explained variance above \n",
    "describes the percent of the test set's variance that can be explained away with the model"
   ]
  },
  {
   "cell_type": "code",
   "execution_count": 134,
   "id": "519c3358",
   "metadata": {},
   "outputs": [
    {
     "data": {
      "image/png": "[encoded data removed]",
      "text/plain": [
       "<Figure size 432x288 with 1 Axes>"
      ]
     },
     "metadata": {
      "needs_background": "light"
     },
     "output_type": "display_data"
    },
    {
     "name": "stdout",
     "output_type": "stream",
     "text": [
      "The 95% CL interval for the predictions can be estiamted to be +/- 0.523969469786943\n"
     ]
    }
   ],
   "source": [
    "plt.hist( (y_test[target_var].values-clf.predict(X_test)),bins=100)\n",
    "plt.title(target_var +' Test Set Residuals')\n",
    "plt.yscale(\"log\")\n",
    "plt.show()\n",
    "\n",
    "print(\"The 95% CL interval for the predictions can be estiamted to be +/- \" +\\\n",
    "      str(np.sqrt(np.mean( (y_test[target_var].values - clf.predict(X_test))**2 ) )*2.1))\n"
   ]
  },
  {
   "cell_type": "markdown",
   "id": "06956509",
   "metadata": {},
   "source": [
    "### To make sure there is no overtraining,\n",
    "We will also check the training set's residuals. If these two distributions have similar width, we can say there is negligible overtraining."
   ]
  },
  {
   "cell_type": "code",
   "execution_count": 135,
   "id": "1bce43e5",
   "metadata": {},
   "outputs": [
    {
     "data": {
      "image/png": "[encoded data removed]",
      "text/plain": [
       "<Figure size 432x288 with 1 Axes>"
      ]
     },
     "metadata": {
      "needs_background": "light"
     },
     "output_type": "display_data"
    },
    {
     "name": "stdout",
     "output_type": "stream",
     "text": [
      "The 95% CL interval for the predictions can be estiamted to be +/- 0.5112623172738269\n"
     ]
    }
   ],
   "source": [
    "plt.hist(y_train[target_var].values-clf.predict(X_train),bins=100)\n",
    "plt.title(target_var +' Training Set Residuals')\n",
    "plt.yscale(\"log\")\n",
    "plt.show()\n",
    "print(\"The 95% CL interval for the predictions can be estiamted to be +/- \" +\\\n",
    "      str(np.sqrt(np.mean( (y_train[target_var].values - clf.predict(X_train))**2 ) )*2.1))"
   ]
  },
  {
   "cell_type": "markdown",
   "id": "7c0378f2",
   "metadata": {},
   "source": [
    "## Let's save the model, as this one is decent"
   ]
  },
  {
   "cell_type": "code",
   "execution_count": 136,
   "id": "e458dfbc",
   "metadata": {},
   "outputs": [],
   "source": [
    "final['predicted_'+target_var] = clf.predict(final)\n",
    "\n",
    "# plt.bar(range(len(clf['model'].feature_importances_)), clf['model'].feature_importances_)\n",
    "# plt.show()"
   ]
  },
  {
   "cell_type": "code",
   "execution_count": 122,
   "id": "93e02b94",
   "metadata": {},
   "outputs": [
    {
     "data": {
      "text/plain": [
       "['iowa_trained_major_crashes.pkl']"
      ]
     },
     "execution_count": 122,
     "metadata": {},
     "output_type": "execute_result"
    }
   ],
   "source": [
    "# clf.predict(X_train[X_train.index==2612695632])\n",
    "import joblib\n",
    "joblib.dump(clf, 'iowa_trained_'+target_var+'.pkl') "
   ]
  },
  {
   "cell_type": "code",
   "execution_count": 137,
   "id": "0e37784a",
   "metadata": {},
   "outputs": [],
   "source": [
    "# clf['model'].feature_importances_\n",
    "# X_train\n",
    "final.to_csv(\"iowa_case_study.csv\")"
   ]
  },
  {
   "cell_type": "code",
   "execution_count": 36,
   "id": "52ac724a",
   "metadata": {},
   "outputs": [],
   "source": [
    "# clf.predict(final)\n",
    "# final.sort_values('major_crashes',ascending=False).head(50)"
   ]
  },
  {
   "cell_type": "code",
   "execution_count": 119,
   "id": "d7525b1c",
   "metadata": {},
   "outputs": [
    {
     "data": {
      "image/png": "[encoded data removed]",
      "text/plain": [
       "<Figure size 432x288 with 1 Axes>"
      ]
     },
     "metadata": {
      "needs_background": "light"
     },
     "output_type": "display_data"
    }
   ],
   "source": [
    "plt.scatter(y_test[target_var].values , clf.predict(X_test))\n",
    "plt.show()"
   ]
  },
  {
   "cell_type": "code",
   "execution_count": 120,
   "id": "f77bcf2d",
   "metadata": {},
   "outputs": [
    {
     "data": {
      "image/png": "[encoded data removed]",
      "text/plain": [
       "<Figure size 432x288 with 1 Axes>"
      ]
     },
     "metadata": {
      "needs_background": "light"
     },
     "output_type": "display_data"
    }
   ],
   "source": [
    "plt.hist(clf.predict(X_test),bins=50)\n",
    "plt.yscale(\"log\")\n",
    "plt.show()"
   ]
  },
  {
   "cell_type": "code",
   "execution_count": 121,
   "id": "70c8714c",
   "metadata": {},
   "outputs": [
    {
     "data": {
      "image/png": "[encoded data removed]",
      "text/plain": [
       "<Figure size 432x288 with 1 Axes>"
      ]
     },
     "metadata": {
      "needs_background": "light"
     },
     "output_type": "display_data"
    }
   ],
   "source": [
    "plt.hist(y_test[target_var].values,bins=50)\n",
    "plt.yscale(\"log\")\n",
    "plt.show()"
   ]
  },
  {
   "cell_type": "code",
   "execution_count": null,
   "id": "f9b25a38",
   "metadata": {},
   "outputs": [],
   "source": []
  }
 ],
 "metadata": {
  "kernelspec": {
   "display_name": "Python 3 (ipykernel)",
   "language": "python",
   "name": "python3"
  },
  "language_info": {
   "codemirror_mode": {
    "name": "ipython",
    "version": 3
   },
   "file_extension": ".py",
   "mimetype": "text/x-python",
   "name": "python",
   "nbconvert_exporter": "python",
   "pygments_lexer": "ipython3",
   "version": "3.9.9"
  }
 },
 "nbformat": 4,
 "nbformat_minor": 5
}
